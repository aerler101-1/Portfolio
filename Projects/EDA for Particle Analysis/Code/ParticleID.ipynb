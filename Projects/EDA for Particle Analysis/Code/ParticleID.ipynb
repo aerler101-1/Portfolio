{
 "cells": [
  {
   "cell_type": "markdown",
   "id": "2dfc5a04",
   "metadata": {},
   "source": [
    "# Subatomic Particle Identification EDA"
   ]
  },
  {
   "cell_type": "markdown",
   "id": "832032d2",
   "metadata": {},
   "source": [
    "Our statistical question here is what variables are critical for identifying particles in advanced physics experiments. "
   ]
  },
  {
   "cell_type": "raw",
   "id": "2b3d395d",
   "metadata": {},
   "source": [
    "The goal of this project is to examine data from modern physics experiments to begin to claissfy particles based on their measured values.\n",
    "The name of the file is training.csv.\n",
    "The file contains the following features\n",
    "\n",
    "ID - id value for tracks (presents only in the test file for the submitting purposes)\n",
    "Label - string valued observable denoting particle types. Can take values \"Electron\", \"Muon\", \"Kaon\", \"Proton\", \"Pion\" and \"Ghost\". This column is absent in the test file.\n",
    "FlagSpd - flag (0 or 1), if reconstructed track passes through Spd\n",
    "FlagPrs - flag (0 or 1), if reconstructed track passes through Prs\n",
    "FlagBrem - flag (0 or 1), if reconstructed track passes through Brem\n",
    "FlagEcal - flag (0 or 1), if reconstructed track passes through Ecal\n",
    "FlagHcal - flag (0 or 1), if reconstructed track passes through Hcal\n",
    "FlagRICH1 - flag (0 or 1), if reconstructed track passes through the first RICH detector\n",
    "FlagRICH2 - flag (0 or 1), if reconstructed track passes through the second RICH detector\n",
    "FlagMuon - flag (0 or 1), if reconstructed track passes through muon stations (Muon)\n",
    "SpdE - energy deposit associated to the track in the Spd\n",
    "PrsE - energy deposit associated to the track in the Prs\n",
    "EcalE - energy deposit associated to the track in the Hcal\n",
    "HcalE - energy deposit associated to the track in the Hcal\n",
    "PrsDLLbeElectron - delta log-likelihood for a particle candidate to be electron using information from Prs\n",
    "BremDLLbeElectron - delta log-likelihood for a particle candidate to be electron using information from Brem\n",
    "TrackP - particle momentum\n",
    "TrackPt - particle transverse momentum\n",
    "TrackNDoFSubdetector1 - number of degrees of freedom for track fit using hits in the tracking sub-detector1\n",
    "TrackQualitySubdetector1 - chi2 quality of the track fit using hits in the tracking sub-detector1\n",
    "TrackNDoFSubdetector2 - number of degrees of freedom for track fit using hits in the tracking sub-detector2\n",
    "TrackQualitySubdetector2 - chi2 quality of the track fit using hits in the tracking sub-detector2\n",
    "TrackNDoF - number of degrees of freedom for track fit using hits in all tracking sub-detectors\n",
    "TrackQualityPerNDoF - chi2 quality of the track fit per degree of freedom\n",
    "TrackDistanceToZ - distance between track and z-axis (beam axis)\n",
    "Calo2dFitQuality - quality of the 2d fit of the clusters in the calorimeter\n",
    "Calo3dFitQuality - quality of the 3d fit in the calorimeter with assumption that particle was electron\n",
    "EcalDLLbeElectron - delta log-likelihood for a particle candidate to be electron using information from Ecal\n",
    "EcalDLLbeMuon - delta log-likelihood for a particle candidate to be muon using information from Ecal\n",
    "EcalShowerLongitudinalParameter - longitudinal parameter of Ecal shower\n",
    "HcalDLLbeElectron - delta log-likelihood for a particle candidate to be electron using information from Hcal\n",
    "HcalDLLbeMuon - delta log-likelihood for a particle candidate to be using information from Hcal\n",
    "RICHpFlagElectron - flag (0 or 1) if momentum is greater than threshold for electrons to produce Cherenkov light\n",
    "RICHpFlagProton - flag (0 or 1) if momentum is greater than threshold for protons to produce Cherenkov light\n",
    "RICHpFlagPion - flag (0 or 1) if momentum is greater than threshold for pions to produce Cherenkov light\n",
    "RICHpFlagKaon - flag (0 or 1) if momentum is greater than threshold for kaons to produce Cherenkov light\n",
    "RICHpFlagMuon - flag (0 or 1) if momentum is greater than threshold for muons to produce Cherenkov light\n",
    "RICH_DLLbeBCK - delta log-likelihood for a particle candidate to be background using information from RICH\n",
    "RICH_DLLbeKaon - delta log-likelihood for a particle candidate to be kaon using information from RICH\n",
    "RICH_DLLbeElectron - delta log-likelihood for a particle candidate to be electron using information from RICH\n",
    "RICH_DLLbeMuon - delta log-likelihood for a particle candidate to be muon using information from RICH\n",
    "RICH_DLLbeProton - delta log-likelihood for a particle candidate to be proton using information from RICH\n",
    "MuonFlag - muon flag (is this track muon) which is determined from muon stations\n",
    "MuonLooseFlag muon flag (is this track muon) which is determined from muon stations using looser criteria\n",
    "MuonLLbeBCK - log-likelihood for a particle candidate to be not muon using information from muon stations\n",
    "MuonLLbeMuon - log-likelihood for a particle candidate to be muon using information from muon stations\n",
    "DLLelectron - delta log-likelihood for a particle candidate to be electron using information from all subdetectors\n",
    "DLLmuon - delta log-likelihood for a particle candidate to be muon using information from all subdetectors\n",
    "DLLkaon - delta log-likelihood for a particle candidate to be kaon using information from all subdetectors\n",
    "DLLproton - delta log-likelihood for a particle candidate to be proton using information from all subdetectors\n",
    "GhostProbability - probability for a particle candidate to be ghost track. This variable is an output of classification model used in the tracking algorithm."
   ]
  },
  {
   "cell_type": "markdown",
   "id": "cc4c3e18",
   "metadata": {},
   "source": [
    "For our EDA we will be exploring only 4 features and see how they relate to a 5th. Our explantory variables will be \n",
    "\n",
    "SpdE - energy deposit associated to the track in the Spd\n",
    "\n",
    "PrsE - energy deposit associated to the track in the Prs\n",
    "\n",
    "EcalE - energy deposit associated to the track in the Ecal\n",
    "\n",
    "HcalE - energy deposit associated to the track in the Hcal\n",
    "\n",
    "Our dependent variable will be the Label feature."
   ]
  },
  {
   "cell_type": "code",
   "execution_count": 90,
   "id": "a6c10840",
   "metadata": {},
   "outputs": [],
   "source": [
    "from __future__ import print_function, division\n",
    "import matplotlib.pyplot as plt\n",
    "import numpy as np\n",
    "import pandas as pd\n",
    "import math\n",
    "import statistics\n",
    "from scipy import stats\n",
    "from collections import Counter\n",
    "from IPython.core.interactiveshell import InteractiveShell\n",
    "InteractiveShell.ast_node_interactivity = \"all\"\n",
    "%matplotlib inline\n",
    "import analytic\n",
    "import thinkstats2\n",
    "import thinkplot\n",
    "import statsmodels.formula.api as smf\n",
    "import scipy\n",
    "\n",
    "#Setupclass for Correlation HypothesisTest\n",
    "class CorrelationPermute(thinkstats2.HypothesisTest):\n",
    "\n",
    "    def TestStatistic(self, data):\n",
    "        xs, ys = data\n",
    "        test_stat = abs(thinkstats2.Corr(xs, ys))\n",
    "        return test_stat\n",
    "\n",
    "    def RunModel(self):\n",
    "        xs, ys = self.data\n",
    "        xs = np.random.permutation(xs)\n",
    "        return xs, ys\n",
    "        \n",
    "\n",
    "# Import our data\n",
    "data = pd.read_csv('training.csv')\n",
    "featureList = [data[\"SpdE\"],data[\"PrsE\"],data[\"EcalE\"],data[\"HcalE\"]]"
   ]
  },
  {
   "cell_type": "code",
   "execution_count": 82,
   "id": "e2883128",
   "metadata": {},
   "outputs": [
    {
     "data": {
      "image/png": "[encoded data removed]",
      "text/plain": [
       "<Figure size 432x288 with 1 Axes>"
      ]
     },
     "metadata": {
      "needs_background": "light"
     },
     "output_type": "display_data"
    }
   ],
   "source": [
    "# Making a histogram of our 5 features\n",
    "\n",
    "\n",
    "test = plt.hist(data[\"SpdE\"], bins=100)\n",
    "ax = plt.gca()"
   ]
  },
  {
   "cell_type": "code",
   "execution_count": 83,
   "id": "b51e3cdf",
   "metadata": {},
   "outputs": [
    {
     "data": {
      "image/png": "[encoded data removed]",
      "text/plain": [
       "<Figure size 432x288 with 1 Axes>"
      ]
     },
     "metadata": {
      "needs_background": "light"
     },
     "output_type": "display_data"
    }
   ],
   "source": [
    "test = plt.hist(data[\"PrsE\"], bins=100)\n",
    "ax = plt.gca()\n"
   ]
  },
  {
   "cell_type": "code",
   "execution_count": 84,
   "id": "f890eb33",
   "metadata": {},
   "outputs": [
    {
     "data": {
      "image/png": "[encoded data removed]",
      "text/plain": [
       "<Figure size 432x288 with 1 Axes>"
      ]
     },
     "metadata": {
      "needs_background": "light"
     },
     "output_type": "display_data"
    }
   ],
   "source": [
    "test = plt.hist(data[\"EcalE\"], bins=100)\n",
    "ax = plt.gca()"
   ]
  },
  {
   "cell_type": "code",
   "execution_count": 85,
   "id": "5ec3f220",
   "metadata": {},
   "outputs": [
    {
     "data": {
      "image/png": "[encoded data removed]",
      "text/plain": [
       "<Figure size 432x288 with 1 Axes>"
      ]
     },
     "metadata": {
      "needs_background": "light"
     },
     "output_type": "display_data"
    }
   ],
   "source": [
    "\n",
    "test = plt.hist(data[\"HcalE\"], bins=100)\n",
    "ax = plt.gca()"
   ]
  },
  {
   "cell_type": "code",
   "execution_count": 86,
   "id": "0ee59019",
   "metadata": {},
   "outputs": [
    {
     "data": {
      "text/plain": [
       "([<matplotlib.axis.XTick at 0x202a38af3a0>,\n",
       "  <matplotlib.axis.XTick at 0x202a38af340>],\n",
       " [Text(1, 0, 'HcalE'), Text(2, 0, 'EcalE')])"
      ]
     },
     "execution_count": 86,
     "metadata": {},
     "output_type": "execute_result"
    },
    {
     "data": {
      "image/png": "[encoded data removed]",
      "text/plain": [
       "<Figure size 576x432 with 1 Axes>"
      ]
     },
     "metadata": {
      "needs_background": "light"
     },
     "output_type": "display_data"
    }
   ],
   "source": [
    "# Create dataset\n",
    "HcalE =  data[\"HcalE\"]\n",
    "EcalE = data[\"EcalE\"]\n",
    "PrsE = data[\"PrsE\"]\n",
    "SpdE = data[\"SpdE\"]\n",
    "data2 = [HcalE, EcalE]\n",
    "fig = plt.figure(figsize =(8, 6)) \n",
    "  \n",
    "# Create axes instance \n",
    "ax = fig.add_axes([0, 0, 1, 1]) \n",
    "  \n",
    "# Create plot \n",
    "bp = ax.boxplot(data2) \n",
    "  \n",
    "# Show plot \n",
    "plt.xticks([1,2],['HcalE','EcalE'])\n",
    "plt.show()"
   ]
  },
  {
   "cell_type": "code",
   "execution_count": 87,
   "id": "e8dcb3d5",
   "metadata": {},
   "outputs": [
    {
     "data": {
      "text/plain": [
       "([<matplotlib.axis.XTick at 0x202c47a7460>,\n",
       "  <matplotlib.axis.XTick at 0x202c47a7490>],\n",
       " [Text(1, 0, 'PrsE'), Text(2, 0, 'SpdE')])"
      ]
     },
     "execution_count": 87,
     "metadata": {},
     "output_type": "execute_result"
    },
    {
     "data": {
      "image/png": "[encoded data removed]",
      "text/plain": [
       "<Figure size 576x432 with 1 Axes>"
      ]
     },
     "metadata": {
      "needs_background": "light"
     },
     "output_type": "display_data"
    }
   ],
   "source": [
    "data3 = [PrsE,SpdE]\n",
    "fig = plt.figure(figsize =(8, 6)) \n",
    "  \n",
    "# Create axes instance \n",
    "ax = fig.add_axes([0, 0, 1, 1]) \n",
    "  \n",
    "# Create plot \n",
    "bp = ax.boxplot(data3) \n",
    "  \n",
    "# Show plot \n",
    "plt.xticks([1,2],['PrsE','SpdE'])\n",
    "plt.show()"
   ]
  },
  {
   "cell_type": "code",
   "execution_count": 88,
   "id": "f7459f6a",
   "metadata": {},
   "outputs": [
    {
     "data": {
      "text/plain": [
       "<AxesSubplot:>"
      ]
     },
     "execution_count": 88,
     "metadata": {},
     "output_type": "execute_result"
    },
    {
     "data": {
      "image/png": "[encoded data removed]",
      "text/plain": [
       "<Figure size 432x288 with 1 Axes>"
      ]
     },
     "metadata": {
      "needs_background": "light"
     },
     "output_type": "display_data"
    }
   ],
   "source": [
    "#We need to clean the data to make a histogram of the labels\n",
    "LCount= Counter(data[\"Label\"])\n",
    "dl = pd.DataFrame.from_dict(LCount, orient='index')\n",
    "dl.plot(kind='bar')"
   ]
  },
  {
   "cell_type": "code",
   "execution_count": 91,
   "id": "2ad78902",
   "metadata": {},
   "outputs": [
    {
     "name": "stdout",
     "output_type": "stream",
     "text": [
      "Mean Mode Median Variance Skew\n",
      "-144.3849181327798 3.20000004768 3.20000004768 125672.74576566137 -1.9959010843601999\n",
      "-133.8947700270729 -999.0 2.468448906785 131694.75236729658 -1.942727817322219\n",
      "2346.4362606248746 -999.0 659.0979812515 32719796.242591243 8.44556894881918\n",
      "2900.029892430136 -999.0 578.012695767 59081456.146492645 11.58229322596505\n"
     ]
    }
   ],
   "source": [
    "#For loop for descriptive stats\n",
    "print(\"Mean Mode Median Variance Skew\")\n",
    "for x in featureList:\n",
    "    xmean = np.mean(x)\n",
    "    xmode = statistics.mode(x)\n",
    "    xmedian = np.median(x)\n",
    "    xvar = statistics.variance(x)\n",
    "    xskew = scipy.stats.skew(x)\n",
    "    \n",
    "    print(xmean, xmode, xmedian, xvar, xskew)\n",
    "    "
   ]
  },
  {
   "cell_type": "code",
   "execution_count": 69,
   "id": "a1c694d1",
   "metadata": {},
   "outputs": [
    {
     "data": {
      "text/html": [
       "<div>\n",
       "<style scoped>\n",
       "    .dataframe tbody tr th:only-of-type {\n",
       "        vertical-align: middle;\n",
       "    }\n",
       "\n",
       "    .dataframe tbody tr th {\n",
       "        vertical-align: top;\n",
       "    }\n",
       "\n",
       "    .dataframe thead th {\n",
       "        text-align: right;\n",
       "    }\n",
       "</style>\n",
       "<table border=\"1\" class=\"dataframe\">\n",
       "  <thead>\n",
       "    <tr style=\"text-align: right;\">\n",
       "      <th></th>\n",
       "      <th>binE</th>\n",
       "      <th>binH</th>\n",
       "      <th>binS</th>\n",
       "      <th>binP</th>\n",
       "    </tr>\n",
       "  </thead>\n",
       "  <tbody>\n",
       "    <tr>\n",
       "      <th>0</th>\n",
       "      <td>(0, 3]</td>\n",
       "      <td>(1000, 10000]</td>\n",
       "      <td>(10, 1000]</td>\n",
       "      <td>(3, 10]</td>\n",
       "    </tr>\n",
       "    <tr>\n",
       "      <th>1</th>\n",
       "      <td>(1000, 10000]</td>\n",
       "      <td>(-1, 0]</td>\n",
       "      <td>(10, 1000]</td>\n",
       "      <td>(3, 10]</td>\n",
       "    </tr>\n",
       "    <tr>\n",
       "      <th>2</th>\n",
       "      <td>(-100000, -1]</td>\n",
       "      <td>(-100000, -1]</td>\n",
       "      <td>(-100000, -1]</td>\n",
       "      <td>(-100000, -1]</td>\n",
       "    </tr>\n",
       "    <tr>\n",
       "      <th>3</th>\n",
       "      <td>(1000, 10000]</td>\n",
       "      <td>(1000, 10000]</td>\n",
       "      <td>(0, 3]</td>\n",
       "      <td>(3, 10]</td>\n",
       "    </tr>\n",
       "    <tr>\n",
       "      <th>4</th>\n",
       "      <td>(1000, 10000]</td>\n",
       "      <td>(1000, 10000]</td>\n",
       "      <td>(0, 3]</td>\n",
       "      <td>(3, 10]</td>\n",
       "    </tr>\n",
       "  </tbody>\n",
       "</table>\n",
       "</div>"
      ],
      "text/plain": [
       "            binE           binH           binS           binP\n",
       "0         (0, 3]  (1000, 10000]     (10, 1000]        (3, 10]\n",
       "1  (1000, 10000]        (-1, 0]     (10, 1000]        (3, 10]\n",
       "2  (-100000, -1]  (-100000, -1]  (-100000, -1]  (-100000, -1]\n",
       "3  (1000, 10000]  (1000, 10000]         (0, 3]        (3, 10]\n",
       "4  (1000, 10000]  (1000, 10000]         (0, 3]        (3, 10]"
      ]
     },
     "execution_count": 69,
     "metadata": {},
     "output_type": "execute_result"
    }
   ],
   "source": [
    "\n",
    "#Creating a datafrom with the binned values\n",
    "newdf = pd.DataFrame()\n",
    "newdf['binE']=pd.cut(data['EcalE'], bins = [-100000,-1,0,3,10,1000,10000,100000,1000000])\n",
    "newdf['binH'] = pd.cut(data['HcalE'], bins = [-100000,-1,0,3,10,1000,10000,100000,1000000])\n",
    "newdf['binS'] = pd.cut(data['PrsE'], bins = [-100000,-1,0,3,10,1000,10000,100000,1000000])\n",
    "newdf['binP'] = pd.cut(data['SpdE'], bins = [-100000,-1,0,3,10,1000,10000,100000,1000000])\n",
    "newdf.head()\n",
    "\n",
    "\n",
    "\n",
    "\n"
   ]
  },
  {
   "cell_type": "code",
   "execution_count": 70,
   "id": "68309377",
   "metadata": {},
   "outputs": [
    {
     "name": "stdout",
     "output_type": "stream",
     "text": [
      "1200000\n"
     ]
    },
    {
     "data": {
      "text/plain": [
       "<AxesSubplot:>"
      ]
     },
     "execution_count": 70,
     "metadata": {},
     "output_type": "execute_result"
    },
    {
     "name": "stdout",
     "output_type": "stream",
     "text": [
      "                        0\n",
      "(0, 3]             101873\n",
      "(1000, 10000]      482365\n",
      "(-100000, -1]      225792\n",
      "(-1, 0]            100428\n",
      "(10, 1000]         227983\n",
      "(10000, 100000]     59345\n",
      "(3, 10]              1924\n",
      "(100000, 1000000]     290\n"
     ]
    },
    {
     "data": {
      "text/plain": [
       "<AxesSubplot:>"
      ]
     },
     "execution_count": 70,
     "metadata": {},
     "output_type": "execute_result"
    },
    {
     "data": {
      "image/png": "[encoded data removed]",
      "text/plain": [
       "<Figure size 432x288 with 1 Axes>"
      ]
     },
     "metadata": {
      "needs_background": "light"
     },
     "output_type": "display_data"
    },
    {
     "data": {
      "image/png": "[encoded data removed]",
      "text/plain": [
       "<Figure size 432x288 with 1 Axes>"
      ]
     },
     "metadata": {
      "needs_background": "light"
     },
     "output_type": "display_data"
    }
   ],
   "source": [
    "LCount= Counter(newdf[\"binE\"])\n",
    "sum1 = len(newdf[\"binE\"])\n",
    "print(sum1)\n",
    "dl = pd.DataFrame.from_dict(LCount, orient='index')\n",
    "dl.plot(kind='bar')\n",
    "print(dl)\n",
    "dl2 = dl.div(1200000)\n",
    "dl2.plot(kind='bar')"
   ]
  },
  {
   "cell_type": "code",
   "execution_count": 71,
   "id": "15cbe044",
   "metadata": {},
   "outputs": [
    {
     "data": {
      "text/plain": [
       "[<matplotlib.lines.Line2D at 0x202a222aee0>]"
      ]
     },
     "execution_count": 71,
     "metadata": {},
     "output_type": "execute_result"
    },
    {
     "data": {
      "image/png": "[encoded data removed]",
      "text/plain": [
       "<Figure size 432x288 with 1 Axes>"
      ]
     },
     "metadata": {
      "needs_background": "light"
     },
     "output_type": "display_data"
    }
   ],
   "source": [
    "#sort data\n",
    "x = np.sort(data[\"EcalE\"])\n",
    "\n",
    "#calculate CDF values\n",
    "y = 1. * np.arange(len(data[\"EcalE\"])) / (len(data[\"EcalE\"]) - 1)\n",
    "\n",
    "#plot CDF\n",
    "plt.plot(x, y)"
   ]
  },
  {
   "cell_type": "code",
   "execution_count": 72,
   "id": "58a4a4d9",
   "metadata": {},
   "outputs": [
    {
     "data": {
      "text/plain": [
       "<matplotlib.collections.PathCollection at 0x202e421c610>"
      ]
     },
     "execution_count": 72,
     "metadata": {},
     "output_type": "execute_result"
    },
    {
     "data": {
      "text/plain": [
       "Text(0.5, 0, 'EcalE')"
      ]
     },
     "execution_count": 72,
     "metadata": {},
     "output_type": "execute_result"
    },
    {
     "data": {
      "text/plain": [
       "Text(0, 0.5, 'HcalE')"
      ]
     },
     "execution_count": 72,
     "metadata": {},
     "output_type": "execute_result"
    },
    {
     "data": {
      "image/png": "[encoded data removed]",
      "text/plain": [
       "<Figure size 432x288 with 1 Axes>"
      ]
     },
     "metadata": {
      "needs_background": "light"
     },
     "output_type": "display_data"
    }
   ],
   "source": [
    "# Scatter Plot Two Variables\n",
    "import numpy as np\n",
    "import matplotlib.pyplot as plt\n",
    "\n",
    "\n",
    "x = data[\"EcalE\"]\n",
    "y = data[\"HcalE\"]\n",
    "\n",
    "plt.scatter(x, y, alpha=0.1)\n",
    "plt.xlabel('EcalE')\n",
    "plt.ylabel('HcalE')\n",
    "plt.show()"
   ]
  },
  {
   "cell_type": "code",
   "execution_count": null,
   "id": "f5f06500",
   "metadata": {},
   "outputs": [],
   "source": [
    "xmin = 0.87\n",
    "\n",
    "thinkplot.PrePlot(3)\n",
    "\n",
    "xs, ps = thinkstats2.RenderParetoCdf(xmin, 0.4, 0, 300000.0, n=1000000) \n",
    "thinkplot.Plot(xs, ps, label='Pareto alpha = 0.4')\n",
    "    \n",
    "thinkplot.Config(title='Pareto CDF', xlabel='Energy Values of EcalE',\n",
    "                 ylabel='CDF', loc='lower right')\n",
    "#sort data\n",
    "x = np.sort(data[\"EcalE\"])\n",
    "\n",
    "#calculate CDF values\n",
    "y = 1. * np.arange(len(data[\"EcalE\"])) / (len(data[\"EcalE\"]) - 1)\n",
    "\n",
    "#plot CDF\n",
    "plt.plot(x, y, label='CDF of EcalE')"
   ]
  },
  {
   "cell_type": "code",
   "execution_count": null,
   "id": "c8d4472a",
   "metadata": {},
   "outputs": [],
   "source": [
    "\n",
    "stats.pearsonr(data[\"HcalE\"],data[\"EcalE\"])"
   ]
  },
  {
   "cell_type": "code",
   "execution_count": null,
   "id": "7147c45a",
   "metadata": {},
   "outputs": [],
   "source": [
    "np.cov(data[\"HcalE\"],data[\"EcalE\"])"
   ]
  },
  {
   "cell_type": "code",
   "execution_count": null,
   "id": "dca48cef",
   "metadata": {},
   "outputs": [],
   "source": [
    "def Cov(xs, ys, meanx=None, meany=None):\n",
    "    xs = np.asarray(xs)\n",
    "    ys = np.asarray(ys)\n",
    "\n",
    "    if meanx is None:\n",
    "        meanx = np.mean(xs)\n",
    "    if meany is None:\n",
    "        meany = np.mean(ys)\n",
    "\n",
    "    cov = np.dot(xs-meanx, ys-meany) / len(xs)\n",
    "    return cov\n",
    "Cov(data[\"HcalE\"],data[\"EcalE\"])"
   ]
  },
  {
   "cell_type": "code",
   "execution_count": null,
   "id": "5149bb8e",
   "metadata": {},
   "outputs": [],
   "source": [
    "def Corr(xs, ys):\n",
    "    xs = np.asarray(xs)\n",
    "    ys = np.asarray(ys)\n",
    "\n",
    "    meanx, varx = thinkstats2.MeanVar(xs)\n",
    "    meany, vary = thinkstats2.MeanVar(ys)\n",
    "\n",
    "    corr = Cov(xs, ys, meanx, meany) / np.sqrt(varx * vary)\n",
    "    return corr\n",
    "Corr(data[\"HcalE\"],data[\"EcalE\"])"
   ]
  },
  {
   "cell_type": "code",
   "execution_count": null,
   "id": "f6796710",
   "metadata": {},
   "outputs": [],
   "source": [
    "Corr(data[\"HcalE\"]**2,data[\"EcalE\"])"
   ]
  },
  {
   "cell_type": "code",
   "execution_count": null,
   "id": "64787d71",
   "metadata": {},
   "outputs": [],
   "source": [
    "Corr(data[\"HcalE\"],data[\"EcalE\"]**2)"
   ]
  },
  {
   "cell_type": "code",
   "execution_count": null,
   "id": "b37513bd",
   "metadata": {},
   "outputs": [],
   "source": [
    "Corr(data[\"PrsE\"]**2,data[\"SpdE\"])"
   ]
  },
  {
   "cell_type": "code",
   "execution_count": null,
   "id": "66437883",
   "metadata": {},
   "outputs": [],
   "source": [
    "Corr(data[\"PrsE\"],data[\"SpdE\"])"
   ]
  },
  {
   "cell_type": "code",
   "execution_count": null,
   "id": "fe2e012d",
   "metadata": {},
   "outputs": [],
   "source": [
    "Cov(data[\"PrsE\"]**2,data[\"SpdE\"])\n",
    "Cov(data[\"PrsE\"],data['SpdE'])"
   ]
  },
  {
   "cell_type": "code",
   "execution_count": null,
   "id": "812a5a3c",
   "metadata": {},
   "outputs": [],
   "source": [
    "\n",
    "x = data[\"PrsE\"]\n",
    "y = data[\"SpdE\"]\n",
    "\n",
    "plt.scatter(x, y, alpha=0.1, label=['PrsE', 'SpdE'])\n",
    "plt.xlabel('PrsE')\n",
    "plt.ylabel('SpdE')\n",
    "plt.show()"
   ]
  },
  {
   "cell_type": "code",
   "execution_count": 38,
   "id": "d06fb5cd",
   "metadata": {},
   "outputs": [
    {
     "data": {
      "text/plain": [
       "<matplotlib.collections.PathCollection at 0x202a231a790>"
      ]
     },
     "execution_count": 38,
     "metadata": {},
     "output_type": "execute_result"
    },
    {
     "data": {
      "text/plain": [
       "Text(0.5, 0, 'PrsE**PrsE')"
      ]
     },
     "execution_count": 38,
     "metadata": {},
     "output_type": "execute_result"
    },
    {
     "data": {
      "text/plain": [
       "Text(0, 0.5, 'SpdE')"
      ]
     },
     "execution_count": 38,
     "metadata": {},
     "output_type": "execute_result"
    },
    {
     "data": {
      "image/png": "[encoded data removed]",
      "text/plain": [
       "<Figure size 432x288 with 1 Axes>"
      ]
     },
     "metadata": {
      "needs_background": "light"
     },
     "output_type": "display_data"
    }
   ],
   "source": [
    "\n",
    "x = data[\"PrsE\"]**2\n",
    "y = data[\"SpdE\"]\n",
    "\n",
    "plt.scatter(x, y, alpha=0.1)\n",
    "plt.xlabel('PrsE**PrsE')\n",
    "plt.ylabel('SpdE')\n",
    "plt.show()"
   ]
  },
  {
   "cell_type": "code",
   "execution_count": 40,
   "id": "4a8ba7d3",
   "metadata": {},
   "outputs": [
    {
     "data": {
      "text/plain": [
       "0.0"
      ]
     },
     "execution_count": 40,
     "metadata": {},
     "output_type": "execute_result"
    },
    {
     "data": {
      "text/plain": [
       "0.0"
      ]
     },
     "execution_count": 40,
     "metadata": {},
     "output_type": "execute_result"
    }
   ],
   "source": [
    "ht = CorrelationPermute((data[\"PrsE\"].values,data[\"SpdE\"].values))\n",
    "pvalue = ht.PValue()\n",
    "pvalue\n",
    "\n",
    "ht2 = CorrelationPermute((data[\"PrsE\"].values**2,data[\"SpdE\"].values))\n",
    "pvalue2 = ht2.PValue()\n",
    "pvalue2"
   ]
  },
  {
   "cell_type": "code",
   "execution_count": 55,
   "id": "64844b2a",
   "metadata": {},
   "outputs": [
    {
     "name": "stdout",
     "output_type": "stream",
     "text": [
      "Pvalue of  HcalE  acting on  Electron  :  0.0\n",
      "Pvalue of  HcalE  acting on  Muon  :  0.0\n",
      "Pvalue of  HcalE  acting on  Ghost  :  0.0\n",
      "Pvalue of  HcalE  acting on  Proton  :  0.0\n",
      "Pvalue of  HcalE  acting on  Kaon  :  0.0\n",
      "Pvalue of  HcalE  acting on  Pion  :  0.0\n",
      "Pvalue of  EcalE  acting on  Electron  :  0.0\n",
      "Pvalue of  EcalE  acting on  Muon  :  0.0\n",
      "Pvalue of  EcalE  acting on  Ghost  :  0.0\n",
      "Pvalue of  EcalE  acting on  Proton  :  0.0\n",
      "Pvalue of  EcalE  acting on  Kaon  :  0.0\n",
      "Pvalue of  EcalE  acting on  Pion  :  0.0\n",
      "Pvalue of  PrsE  acting on  Electron  :  0.0\n",
      "Pvalue of  PrsE  acting on  Muon  :  0.0\n",
      "Pvalue of  PrsE  acting on  Ghost  :  0.0\n",
      "Pvalue of  PrsE  acting on  Proton  :  0.0\n",
      "Pvalue of  PrsE  acting on  Kaon  :  0.0\n",
      "Pvalue of  PrsE  acting on  Pion  :  0.0\n",
      "Pvalue of  SpdE  acting on  Electron  :  0.0\n",
      "Pvalue of  SpdE  acting on  Muon  :  0.0\n",
      "Pvalue of  SpdE  acting on  Ghost  :  0.0\n",
      "Pvalue of  SpdE  acting on  Proton  :  0.0\n",
      "Pvalue of  SpdE  acting on  Kaon  :  0.0\n",
      "Pvalue of  SpdE  acting on  Pion  :  0.0\n"
     ]
    }
   ],
   "source": [
    "for y in FT:\n",
    "    for x in Dummylist:\n",
    "        PrsEP= CorrelationPermute((data[y].values,RegData[x].values))\n",
    "        Pvalue = PrsEP.PValue()\n",
    "        print('Pvalue of ',y,' acting on ',x,' : ',Pvalue)\n",
    "\n"
   ]
  },
  {
   "cell_type": "code",
   "execution_count": 73,
   "id": "30d14458",
   "metadata": {},
   "outputs": [],
   "source": [
    "DummyData = pd.get_dummies(data['Label'])\n"
   ]
  },
  {
   "cell_type": "code",
   "execution_count": 74,
   "id": "5478b7f4",
   "metadata": {},
   "outputs": [],
   "source": [
    "#Create Regression Data\n",
    "RegData= pd.DataFrame()\n",
    "RegData['HcalE']= data['HcalE']\n",
    "RegData['EcalE']= data['EcalE']\n",
    "RegData['PrsE']= data['PrsE']\n",
    "RegData['SpdE']= data['SpdE']\n",
    "RegData['Electron']= DummyData['Electron']\n",
    "RegData['Muon']= DummyData['Muon']\n",
    "RegData['Kaon']= DummyData['Kaon']\n",
    "RegData['Ghost']= DummyData['Ghost']\n",
    "RegData['Proton']= DummyData['Proton']\n",
    "RegData['Pion']= DummyData['Pion']\n",
    "FT = ['HcalE', 'EcalE','PrsE','SpdE']\n",
    "Dummylist=['Electron', 'Muon', 'Ghost', 'Proton', 'Kaon','Pion']"
   ]
  },
  {
   "cell_type": "code",
   "execution_count": 75,
   "id": "ba9a88eb",
   "metadata": {},
   "outputs": [
    {
     "data": {
      "text/html": [
       "<table class=\"simpletable\">\n",
       "<caption>OLS Regression Results</caption>\n",
       "<tr>\n",
       "  <th>Dep. Variable:</th>          <td>Ghost</td>      <th>  R-squared:         </th>  <td>   0.007</td>  \n",
       "</tr>\n",
       "<tr>\n",
       "  <th>Model:</th>                   <td>OLS</td>       <th>  Adj. R-squared:    </th>  <td>   0.007</td>  \n",
       "</tr>\n",
       "<tr>\n",
       "  <th>Method:</th>             <td>Least Squares</td>  <th>  F-statistic:       </th>  <td>   2252.</td>  \n",
       "</tr>\n",
       "<tr>\n",
       "  <th>Date:</th>             <td>Sat, 20 Nov 2021</td> <th>  Prob (F-statistic):</th>   <td>  0.00</td>   \n",
       "</tr>\n",
       "<tr>\n",
       "  <th>Time:</th>                 <td>12:12:12</td>     <th>  Log-Likelihood:    </th> <td>-5.1379e+05</td>\n",
       "</tr>\n",
       "<tr>\n",
       "  <th>No. Observations:</th>      <td>1200000</td>     <th>  AIC:               </th>  <td>1.028e+06</td> \n",
       "</tr>\n",
       "<tr>\n",
       "  <th>Df Residuals:</th>          <td>1199995</td>     <th>  BIC:               </th>  <td>1.028e+06</td> \n",
       "</tr>\n",
       "<tr>\n",
       "  <th>Df Model:</th>              <td>     4</td>      <th>                     </th>      <td> </td>     \n",
       "</tr>\n",
       "<tr>\n",
       "  <th>Covariance Type:</th>      <td>nonrobust</td>    <th>                     </th>      <td> </td>     \n",
       "</tr>\n",
       "</table>\n",
       "<table class=\"simpletable\">\n",
       "<tr>\n",
       "      <td></td>         <th>coef</th>     <th>std err</th>      <th>t</th>      <th>P>|t|</th>  <th>[0.025</th>    <th>0.975]</th>  \n",
       "</tr>\n",
       "<tr>\n",
       "  <th>Intercept</th> <td>    0.1741</td> <td>    0.000</td> <td>  399.610</td> <td> 0.000</td> <td>    0.173</td> <td>    0.175</td>\n",
       "</tr>\n",
       "<tr>\n",
       "  <th>HcalE</th>     <td>-1.881e-06</td> <td> 4.51e-08</td> <td>  -41.739</td> <td> 0.000</td> <td>-1.97e-06</td> <td>-1.79e-06</td>\n",
       "</tr>\n",
       "<tr>\n",
       "  <th>EcalE</th>     <td>-3.345e-06</td> <td> 6.22e-08</td> <td>  -53.733</td> <td> 0.000</td> <td>-3.47e-06</td> <td>-3.22e-06</td>\n",
       "</tr>\n",
       "<tr>\n",
       "  <th>PrsE</th>      <td> 7.133e-06</td> <td> 4.18e-06</td> <td>    1.705</td> <td> 0.088</td> <td>-1.07e-06</td> <td> 1.53e-05</td>\n",
       "</tr>\n",
       "<tr>\n",
       "  <th>SpdE</th>      <td>-4.756e-05</td> <td> 4.25e-06</td> <td>  -11.200</td> <td> 0.000</td> <td>-5.59e-05</td> <td>-3.92e-05</td>\n",
       "</tr>\n",
       "</table>\n",
       "<table class=\"simpletable\">\n",
       "<tr>\n",
       "  <th>Omnibus:</th>       <td>335109.090</td> <th>  Durbin-Watson:     </th>  <td>   2.003</td> \n",
       "</tr>\n",
       "<tr>\n",
       "  <th>Prob(Omnibus):</th>   <td> 0.000</td>   <th>  Jarque-Bera (JB):  </th> <td>694598.148</td>\n",
       "</tr>\n",
       "<tr>\n",
       "  <th>Skew:</th>            <td> 1.769</td>   <th>  Prob(JB):          </th>  <td>    0.00</td> \n",
       "</tr>\n",
       "<tr>\n",
       "  <th>Kurtosis:</th>        <td> 4.175</td>   <th>  Cond. No.          </th>  <td>1.08e+04</td> \n",
       "</tr>\n",
       "</table><br/><br/>Notes:<br/>[1] Standard Errors assume that the covariance matrix of the errors is correctly specified.<br/>[2] The condition number is large, 1.08e+04. This might indicate that there are<br/>strong multicollinearity or other numerical problems."
      ],
      "text/plain": [
       "<class 'statsmodels.iolib.summary.Summary'>\n",
       "\"\"\"\n",
       "                            OLS Regression Results                            \n",
       "==============================================================================\n",
       "Dep. Variable:                  Ghost   R-squared:                       0.007\n",
       "Model:                            OLS   Adj. R-squared:                  0.007\n",
       "Method:                 Least Squares   F-statistic:                     2252.\n",
       "Date:                Sat, 20 Nov 2021   Prob (F-statistic):               0.00\n",
       "Time:                        12:12:12   Log-Likelihood:            -5.1379e+05\n",
       "No. Observations:             1200000   AIC:                         1.028e+06\n",
       "Df Residuals:                 1199995   BIC:                         1.028e+06\n",
       "Df Model:                           4                                         \n",
       "Covariance Type:            nonrobust                                         \n",
       "==============================================================================\n",
       "                 coef    std err          t      P>|t|      [0.025      0.975]\n",
       "------------------------------------------------------------------------------\n",
       "Intercept      0.1741      0.000    399.610      0.000       0.173       0.175\n",
       "HcalE      -1.881e-06   4.51e-08    -41.739      0.000   -1.97e-06   -1.79e-06\n",
       "EcalE      -3.345e-06   6.22e-08    -53.733      0.000   -3.47e-06   -3.22e-06\n",
       "PrsE        7.133e-06   4.18e-06      1.705      0.088   -1.07e-06    1.53e-05\n",
       "SpdE       -4.756e-05   4.25e-06    -11.200      0.000   -5.59e-05   -3.92e-05\n",
       "==============================================================================\n",
       "Omnibus:                   335109.090   Durbin-Watson:                   2.003\n",
       "Prob(Omnibus):                  0.000   Jarque-Bera (JB):           694598.148\n",
       "Skew:                           1.769   Prob(JB):                         0.00\n",
       "Kurtosis:                       4.175   Cond. No.                     1.08e+04\n",
       "==============================================================================\n",
       "\n",
       "Notes:\n",
       "[1] Standard Errors assume that the covariance matrix of the errors is correctly specified.\n",
       "[2] The condition number is large, 1.08e+04. This might indicate that there are\n",
       "strong multicollinearity or other numerical problems.\n",
       "\"\"\""
      ]
     },
     "execution_count": 75,
     "metadata": {},
     "output_type": "execute_result"
    }
   ],
   "source": [
    "formula = 'Ghost ~ HcalE+EcalE+PrsE+SpdE'\n",
    "model = smf.ols(formula, data=RegData)\n",
    "results = model.fit()\n",
    "results.summary()"
   ]
  },
  {
   "cell_type": "code",
   "execution_count": 76,
   "id": "33efc299",
   "metadata": {},
   "outputs": [
    {
     "data": {
      "text/html": [
       "<table class=\"simpletable\">\n",
       "<caption>OLS Regression Results</caption>\n",
       "<tr>\n",
       "  <th>Dep. Variable:</th>         <td>Proton</td>      <th>  R-squared:         </th>  <td>   0.007</td>  \n",
       "</tr>\n",
       "<tr>\n",
       "  <th>Model:</th>                   <td>OLS</td>       <th>  Adj. R-squared:    </th>  <td>   0.007</td>  \n",
       "</tr>\n",
       "<tr>\n",
       "  <th>Method:</th>             <td>Least Squares</td>  <th>  F-statistic:       </th>  <td>   2182.</td>  \n",
       "</tr>\n",
       "<tr>\n",
       "  <th>Date:</th>             <td>Sat, 20 Nov 2021</td> <th>  Prob (F-statistic):</th>   <td>  0.00</td>   \n",
       "</tr>\n",
       "<tr>\n",
       "  <th>Time:</th>                 <td>12:12:13</td>     <th>  Log-Likelihood:    </th> <td>-5.1393e+05</td>\n",
       "</tr>\n",
       "<tr>\n",
       "  <th>No. Observations:</th>      <td>1200000</td>     <th>  AIC:               </th>  <td>1.028e+06</td> \n",
       "</tr>\n",
       "<tr>\n",
       "  <th>Df Residuals:</th>          <td>1199995</td>     <th>  BIC:               </th>  <td>1.028e+06</td> \n",
       "</tr>\n",
       "<tr>\n",
       "  <th>Df Model:</th>              <td>     4</td>      <th>                     </th>      <td> </td>     \n",
       "</tr>\n",
       "<tr>\n",
       "  <th>Covariance Type:</th>      <td>nonrobust</td>    <th>                     </th>      <td> </td>     \n",
       "</tr>\n",
       "</table>\n",
       "<table class=\"simpletable\">\n",
       "<tr>\n",
       "      <td></td>         <th>coef</th>     <th>std err</th>      <th>t</th>      <th>P>|t|</th>  <th>[0.025</th>    <th>0.975]</th>  \n",
       "</tr>\n",
       "<tr>\n",
       "  <th>Intercept</th> <td>    0.1629</td> <td>    0.000</td> <td>  373.894</td> <td> 0.000</td> <td>    0.162</td> <td>    0.164</td>\n",
       "</tr>\n",
       "<tr>\n",
       "  <th>HcalE</th>     <td> 3.452e-06</td> <td> 4.51e-08</td> <td>   76.596</td> <td> 0.000</td> <td> 3.36e-06</td> <td> 3.54e-06</td>\n",
       "</tr>\n",
       "<tr>\n",
       "  <th>EcalE</th>     <td>-1.405e-06</td> <td> 6.23e-08</td> <td>  -22.572</td> <td> 0.000</td> <td>-1.53e-06</td> <td>-1.28e-06</td>\n",
       "</tr>\n",
       "<tr>\n",
       "  <th>PrsE</th>      <td>   -0.0002</td> <td> 4.18e-06</td> <td>  -39.635</td> <td> 0.000</td> <td>   -0.000</td> <td>   -0.000</td>\n",
       "</tr>\n",
       "<tr>\n",
       "  <th>SpdE</th>      <td>    0.0002</td> <td> 4.25e-06</td> <td>   40.968</td> <td> 0.000</td> <td>    0.000</td> <td>    0.000</td>\n",
       "</tr>\n",
       "</table>\n",
       "<table class=\"simpletable\">\n",
       "<tr>\n",
       "  <th>Omnibus:</th>       <td>336115.134</td> <th>  Durbin-Watson:     </th>  <td>   2.000</td> \n",
       "</tr>\n",
       "<tr>\n",
       "  <th>Prob(Omnibus):</th>   <td> 0.000</td>   <th>  Jarque-Bera (JB):  </th> <td>698240.988</td>\n",
       "</tr>\n",
       "<tr>\n",
       "  <th>Skew:</th>            <td> 1.769</td>   <th>  Prob(JB):          </th>  <td>    0.00</td> \n",
       "</tr>\n",
       "<tr>\n",
       "  <th>Kurtosis:</th>        <td> 4.204</td>   <th>  Cond. No.          </th>  <td>1.08e+04</td> \n",
       "</tr>\n",
       "</table><br/><br/>Notes:<br/>[1] Standard Errors assume that the covariance matrix of the errors is correctly specified.<br/>[2] The condition number is large, 1.08e+04. This might indicate that there are<br/>strong multicollinearity or other numerical problems."
      ],
      "text/plain": [
       "<class 'statsmodels.iolib.summary.Summary'>\n",
       "\"\"\"\n",
       "                            OLS Regression Results                            \n",
       "==============================================================================\n",
       "Dep. Variable:                 Proton   R-squared:                       0.007\n",
       "Model:                            OLS   Adj. R-squared:                  0.007\n",
       "Method:                 Least Squares   F-statistic:                     2182.\n",
       "Date:                Sat, 20 Nov 2021   Prob (F-statistic):               0.00\n",
       "Time:                        12:12:13   Log-Likelihood:            -5.1393e+05\n",
       "No. Observations:             1200000   AIC:                         1.028e+06\n",
       "Df Residuals:                 1199995   BIC:                         1.028e+06\n",
       "Df Model:                           4                                         \n",
       "Covariance Type:            nonrobust                                         \n",
       "==============================================================================\n",
       "                 coef    std err          t      P>|t|      [0.025      0.975]\n",
       "------------------------------------------------------------------------------\n",
       "Intercept      0.1629      0.000    373.894      0.000       0.162       0.164\n",
       "HcalE       3.452e-06   4.51e-08     76.596      0.000    3.36e-06    3.54e-06\n",
       "EcalE      -1.405e-06   6.23e-08    -22.572      0.000   -1.53e-06   -1.28e-06\n",
       "PrsE          -0.0002   4.18e-06    -39.635      0.000      -0.000      -0.000\n",
       "SpdE           0.0002   4.25e-06     40.968      0.000       0.000       0.000\n",
       "==============================================================================\n",
       "Omnibus:                   336115.134   Durbin-Watson:                   2.000\n",
       "Prob(Omnibus):                  0.000   Jarque-Bera (JB):           698240.988\n",
       "Skew:                           1.769   Prob(JB):                         0.00\n",
       "Kurtosis:                       4.204   Cond. No.                     1.08e+04\n",
       "==============================================================================\n",
       "\n",
       "Notes:\n",
       "[1] Standard Errors assume that the covariance matrix of the errors is correctly specified.\n",
       "[2] The condition number is large, 1.08e+04. This might indicate that there are\n",
       "strong multicollinearity or other numerical problems.\n",
       "\"\"\""
      ]
     },
     "execution_count": 76,
     "metadata": {},
     "output_type": "execute_result"
    }
   ],
   "source": [
    "\n",
    "formula = 'Proton ~ HcalE+EcalE+PrsE+SpdE'\n",
    "model = smf.ols(formula, data=RegData)\n",
    "results = model.fit()\n",
    "results.summary()"
   ]
  },
  {
   "cell_type": "code",
   "execution_count": 77,
   "id": "219e8ecf",
   "metadata": {},
   "outputs": [
    {
     "data": {
      "text/html": [
       "<table class=\"simpletable\">\n",
       "<caption>OLS Regression Results</caption>\n",
       "<tr>\n",
       "  <th>Dep. Variable:</th>          <td>Pion</td>       <th>  R-squared:         </th>  <td>   0.006</td>  \n",
       "</tr>\n",
       "<tr>\n",
       "  <th>Model:</th>                   <td>OLS</td>       <th>  Adj. R-squared:    </th>  <td>   0.006</td>  \n",
       "</tr>\n",
       "<tr>\n",
       "  <th>Method:</th>             <td>Least Squares</td>  <th>  F-statistic:       </th>  <td>   1797.</td>  \n",
       "</tr>\n",
       "<tr>\n",
       "  <th>Date:</th>             <td>Sat, 20 Nov 2021</td> <th>  Prob (F-statistic):</th>   <td>  0.00</td>   \n",
       "</tr>\n",
       "<tr>\n",
       "  <th>Time:</th>                 <td>12:12:13</td>     <th>  Log-Likelihood:    </th> <td>-5.1469e+05</td>\n",
       "</tr>\n",
       "<tr>\n",
       "  <th>No. Observations:</th>      <td>1200000</td>     <th>  AIC:               </th>  <td>1.029e+06</td> \n",
       "</tr>\n",
       "<tr>\n",
       "  <th>Df Residuals:</th>          <td>1199995</td>     <th>  BIC:               </th>  <td>1.029e+06</td> \n",
       "</tr>\n",
       "<tr>\n",
       "  <th>Df Model:</th>              <td>     4</td>      <th>                     </th>      <td> </td>     \n",
       "</tr>\n",
       "<tr>\n",
       "  <th>Covariance Type:</th>      <td>nonrobust</td>    <th>                     </th>      <td> </td>     \n",
       "</tr>\n",
       "</table>\n",
       "<table class=\"simpletable\">\n",
       "<tr>\n",
       "      <td></td>         <th>coef</th>     <th>std err</th>      <th>t</th>      <th>P>|t|</th>  <th>[0.025</th>    <th>0.975]</th>  \n",
       "</tr>\n",
       "<tr>\n",
       "  <th>Intercept</th> <td>    0.1704</td> <td>    0.000</td> <td>  391.008</td> <td> 0.000</td> <td>    0.170</td> <td>    0.171</td>\n",
       "</tr>\n",
       "<tr>\n",
       "  <th>HcalE</th>     <td>  2.18e-06</td> <td> 4.51e-08</td> <td>   48.351</td> <td> 0.000</td> <td> 2.09e-06</td> <td> 2.27e-06</td>\n",
       "</tr>\n",
       "<tr>\n",
       "  <th>EcalE</th>     <td>-3.165e-06</td> <td> 6.23e-08</td> <td>  -50.800</td> <td> 0.000</td> <td>-3.29e-06</td> <td>-3.04e-06</td>\n",
       "</tr>\n",
       "<tr>\n",
       "  <th>PrsE</th>      <td>   -0.0002</td> <td> 4.19e-06</td> <td>  -37.672</td> <td> 0.000</td> <td>   -0.000</td> <td>   -0.000</td>\n",
       "</tr>\n",
       "<tr>\n",
       "  <th>SpdE</th>      <td>    0.0002</td> <td> 4.25e-06</td> <td>   38.762</td> <td> 0.000</td> <td>    0.000</td> <td>    0.000</td>\n",
       "</tr>\n",
       "</table>\n",
       "<table class=\"simpletable\">\n",
       "<tr>\n",
       "  <th>Omnibus:</th>       <td>335670.612</td> <th>  Durbin-Watson:     </th>  <td>   1.997</td> \n",
       "</tr>\n",
       "<tr>\n",
       "  <th>Prob(Omnibus):</th>   <td> 0.000</td>   <th>  Jarque-Bera (JB):  </th> <td>696539.454</td>\n",
       "</tr>\n",
       "<tr>\n",
       "  <th>Skew:</th>            <td> 1.771</td>   <th>  Prob(JB):          </th>  <td>    0.00</td> \n",
       "</tr>\n",
       "<tr>\n",
       "  <th>Kurtosis:</th>        <td> 4.179</td>   <th>  Cond. No.          </th>  <td>1.08e+04</td> \n",
       "</tr>\n",
       "</table><br/><br/>Notes:<br/>[1] Standard Errors assume that the covariance matrix of the errors is correctly specified.<br/>[2] The condition number is large, 1.08e+04. This might indicate that there are<br/>strong multicollinearity or other numerical problems."
      ],
      "text/plain": [
       "<class 'statsmodels.iolib.summary.Summary'>\n",
       "\"\"\"\n",
       "                            OLS Regression Results                            \n",
       "==============================================================================\n",
       "Dep. Variable:                   Pion   R-squared:                       0.006\n",
       "Model:                            OLS   Adj. R-squared:                  0.006\n",
       "Method:                 Least Squares   F-statistic:                     1797.\n",
       "Date:                Sat, 20 Nov 2021   Prob (F-statistic):               0.00\n",
       "Time:                        12:12:13   Log-Likelihood:            -5.1469e+05\n",
       "No. Observations:             1200000   AIC:                         1.029e+06\n",
       "Df Residuals:                 1199995   BIC:                         1.029e+06\n",
       "Df Model:                           4                                         \n",
       "Covariance Type:            nonrobust                                         \n",
       "==============================================================================\n",
       "                 coef    std err          t      P>|t|      [0.025      0.975]\n",
       "------------------------------------------------------------------------------\n",
       "Intercept      0.1704      0.000    391.008      0.000       0.170       0.171\n",
       "HcalE        2.18e-06   4.51e-08     48.351      0.000    2.09e-06    2.27e-06\n",
       "EcalE      -3.165e-06   6.23e-08    -50.800      0.000   -3.29e-06   -3.04e-06\n",
       "PrsE          -0.0002   4.19e-06    -37.672      0.000      -0.000      -0.000\n",
       "SpdE           0.0002   4.25e-06     38.762      0.000       0.000       0.000\n",
       "==============================================================================\n",
       "Omnibus:                   335670.612   Durbin-Watson:                   1.997\n",
       "Prob(Omnibus):                  0.000   Jarque-Bera (JB):           696539.454\n",
       "Skew:                           1.771   Prob(JB):                         0.00\n",
       "Kurtosis:                       4.179   Cond. No.                     1.08e+04\n",
       "==============================================================================\n",
       "\n",
       "Notes:\n",
       "[1] Standard Errors assume that the covariance matrix of the errors is correctly specified.\n",
       "[2] The condition number is large, 1.08e+04. This might indicate that there are\n",
       "strong multicollinearity or other numerical problems.\n",
       "\"\"\""
      ]
     },
     "execution_count": 77,
     "metadata": {},
     "output_type": "execute_result"
    }
   ],
   "source": [
    "\n",
    "formula = 'Pion ~ HcalE+EcalE+PrsE+SpdE'\n",
    "model = smf.ols(formula, data=RegData)\n",
    "results = model.fit()\n",
    "results.summary()"
   ]
  },
  {
   "cell_type": "code",
   "execution_count": 78,
   "id": "150eaa2e",
   "metadata": {},
   "outputs": [
    {
     "data": {
      "text/html": [
       "<table class=\"simpletable\">\n",
       "<caption>OLS Regression Results</caption>\n",
       "<tr>\n",
       "  <th>Dep. Variable:</th>        <td>Electron</td>     <th>  R-squared:         </th>  <td>   0.147</td>  \n",
       "</tr>\n",
       "<tr>\n",
       "  <th>Model:</th>                   <td>OLS</td>       <th>  Adj. R-squared:    </th>  <td>   0.147</td>  \n",
       "</tr>\n",
       "<tr>\n",
       "  <th>Method:</th>             <td>Least Squares</td>  <th>  F-statistic:       </th>  <td>5.150e+04</td> \n",
       "</tr>\n",
       "<tr>\n",
       "  <th>Date:</th>             <td>Sat, 20 Nov 2021</td> <th>  Prob (F-statistic):</th>   <td>  0.00</td>   \n",
       "</tr>\n",
       "<tr>\n",
       "  <th>Time:</th>                 <td>12:12:14</td>     <th>  Log-Likelihood:    </th> <td>-4.2322e+05</td>\n",
       "</tr>\n",
       "<tr>\n",
       "  <th>No. Observations:</th>      <td>1200000</td>     <th>  AIC:               </th>  <td>8.465e+05</td> \n",
       "</tr>\n",
       "<tr>\n",
       "  <th>Df Residuals:</th>          <td>1199995</td>     <th>  BIC:               </th>  <td>8.465e+05</td> \n",
       "</tr>\n",
       "<tr>\n",
       "  <th>Df Model:</th>              <td>     4</td>      <th>                     </th>      <td> </td>     \n",
       "</tr>\n",
       "<tr>\n",
       "  <th>Covariance Type:</th>      <td>nonrobust</td>    <th>                     </th>      <td> </td>     \n",
       "</tr>\n",
       "</table>\n",
       "<table class=\"simpletable\">\n",
       "<tr>\n",
       "      <td></td>         <th>coef</th>     <th>std err</th>      <th>t</th>      <th>P>|t|</th>  <th>[0.025</th>    <th>0.975]</th>  \n",
       "</tr>\n",
       "<tr>\n",
       "  <th>Intercept</th> <td>    0.1203</td> <td>    0.000</td> <td>  297.858</td> <td> 0.000</td> <td>    0.120</td> <td>    0.121</td>\n",
       "</tr>\n",
       "<tr>\n",
       "  <th>HcalE</th>     <td>-6.591e-06</td> <td> 4.18e-08</td> <td> -157.758</td> <td> 0.000</td> <td>-6.67e-06</td> <td>-6.51e-06</td>\n",
       "</tr>\n",
       "<tr>\n",
       "  <th>EcalE</th>     <td> 2.048e-05</td> <td> 5.77e-08</td> <td>  354.817</td> <td> 0.000</td> <td> 2.04e-05</td> <td> 2.06e-05</td>\n",
       "</tr>\n",
       "<tr>\n",
       "  <th>PrsE</th>      <td>    0.0006</td> <td> 3.88e-06</td> <td>  165.778</td> <td> 0.000</td> <td>    0.001</td> <td>    0.001</td>\n",
       "</tr>\n",
       "<tr>\n",
       "  <th>SpdE</th>      <td>   -0.0007</td> <td> 3.94e-06</td> <td> -182.072</td> <td> 0.000</td> <td>   -0.001</td> <td>   -0.001</td>\n",
       "</tr>\n",
       "</table>\n",
       "<table class=\"simpletable\">\n",
       "<tr>\n",
       "  <th>Omnibus:</th>       <td>325104.205</td> <th>  Durbin-Watson:     </th>  <td>   1.999</td> \n",
       "</tr>\n",
       "<tr>\n",
       "  <th>Prob(Omnibus):</th>   <td> 0.000</td>   <th>  Jarque-Bera (JB):  </th> <td>797548.961</td>\n",
       "</tr>\n",
       "<tr>\n",
       "  <th>Skew:</th>            <td> 1.507</td>   <th>  Prob(JB):          </th>  <td>    0.00</td> \n",
       "</tr>\n",
       "<tr>\n",
       "  <th>Kurtosis:</th>        <td> 5.620</td>   <th>  Cond. No.          </th>  <td>1.08e+04</td> \n",
       "</tr>\n",
       "</table><br/><br/>Notes:<br/>[1] Standard Errors assume that the covariance matrix of the errors is correctly specified.<br/>[2] The condition number is large, 1.08e+04. This might indicate that there are<br/>strong multicollinearity or other numerical problems."
      ],
      "text/plain": [
       "<class 'statsmodels.iolib.summary.Summary'>\n",
       "\"\"\"\n",
       "                            OLS Regression Results                            \n",
       "==============================================================================\n",
       "Dep. Variable:               Electron   R-squared:                       0.147\n",
       "Model:                            OLS   Adj. R-squared:                  0.147\n",
       "Method:                 Least Squares   F-statistic:                 5.150e+04\n",
       "Date:                Sat, 20 Nov 2021   Prob (F-statistic):               0.00\n",
       "Time:                        12:12:14   Log-Likelihood:            -4.2322e+05\n",
       "No. Observations:             1200000   AIC:                         8.465e+05\n",
       "Df Residuals:                 1199995   BIC:                         8.465e+05\n",
       "Df Model:                           4                                         \n",
       "Covariance Type:            nonrobust                                         \n",
       "==============================================================================\n",
       "                 coef    std err          t      P>|t|      [0.025      0.975]\n",
       "------------------------------------------------------------------------------\n",
       "Intercept      0.1203      0.000    297.858      0.000       0.120       0.121\n",
       "HcalE      -6.591e-06   4.18e-08   -157.758      0.000   -6.67e-06   -6.51e-06\n",
       "EcalE       2.048e-05   5.77e-08    354.817      0.000    2.04e-05    2.06e-05\n",
       "PrsE           0.0006   3.88e-06    165.778      0.000       0.001       0.001\n",
       "SpdE          -0.0007   3.94e-06   -182.072      0.000      -0.001      -0.001\n",
       "==============================================================================\n",
       "Omnibus:                   325104.205   Durbin-Watson:                   1.999\n",
       "Prob(Omnibus):                  0.000   Jarque-Bera (JB):           797548.961\n",
       "Skew:                           1.507   Prob(JB):                         0.00\n",
       "Kurtosis:                       5.620   Cond. No.                     1.08e+04\n",
       "==============================================================================\n",
       "\n",
       "Notes:\n",
       "[1] Standard Errors assume that the covariance matrix of the errors is correctly specified.\n",
       "[2] The condition number is large, 1.08e+04. This might indicate that there are\n",
       "strong multicollinearity or other numerical problems.\n",
       "\"\"\""
      ]
     },
     "execution_count": 78,
     "metadata": {},
     "output_type": "execute_result"
    }
   ],
   "source": [
    "\n",
    "formula = 'Electron ~ HcalE+EcalE+PrsE+SpdE'\n",
    "model = smf.ols(formula, data=RegData)\n",
    "results = model.fit()\n",
    "results.summary()"
   ]
  },
  {
   "cell_type": "code",
   "execution_count": 79,
   "id": "d7d34044",
   "metadata": {},
   "outputs": [
    {
     "data": {
      "text/html": [
       "<table class=\"simpletable\">\n",
       "<caption>OLS Regression Results</caption>\n",
       "<tr>\n",
       "  <th>Dep. Variable:</th>          <td>Muon</td>       <th>  R-squared:         </th>  <td>   0.033</td>  \n",
       "</tr>\n",
       "<tr>\n",
       "  <th>Model:</th>                   <td>OLS</td>       <th>  Adj. R-squared:    </th>  <td>   0.033</td>  \n",
       "</tr>\n",
       "<tr>\n",
       "  <th>Method:</th>             <td>Least Squares</td>  <th>  F-statistic:       </th>  <td>1.038e+04</td> \n",
       "</tr>\n",
       "<tr>\n",
       "  <th>Date:</th>             <td>Sat, 20 Nov 2021</td> <th>  Prob (F-statistic):</th>   <td>  0.00</td>   \n",
       "</tr>\n",
       "<tr>\n",
       "  <th>Time:</th>                 <td>12:12:14</td>     <th>  Log-Likelihood:    </th> <td>-4.9786e+05</td>\n",
       "</tr>\n",
       "<tr>\n",
       "  <th>No. Observations:</th>      <td>1200000</td>     <th>  AIC:               </th>  <td>9.957e+05</td> \n",
       "</tr>\n",
       "<tr>\n",
       "  <th>Df Residuals:</th>          <td>1199995</td>     <th>  BIC:               </th>  <td>9.958e+05</td> \n",
       "</tr>\n",
       "<tr>\n",
       "  <th>Df Model:</th>              <td>     4</td>      <th>                     </th>      <td> </td>     \n",
       "</tr>\n",
       "<tr>\n",
       "  <th>Covariance Type:</th>      <td>nonrobust</td>    <th>                     </th>      <td> </td>     \n",
       "</tr>\n",
       "</table>\n",
       "<table class=\"simpletable\">\n",
       "<tr>\n",
       "      <td></td>         <th>coef</th>     <th>std err</th>      <th>t</th>      <th>P>|t|</th>  <th>[0.025</th>    <th>0.975]</th>  \n",
       "</tr>\n",
       "<tr>\n",
       "  <th>Intercept</th> <td>    0.2109</td> <td>    0.000</td> <td>  490.575</td> <td> 0.000</td> <td>    0.210</td> <td>    0.212</td>\n",
       "</tr>\n",
       "<tr>\n",
       "  <th>HcalE</th>     <td>-1.536e-06</td> <td> 4.45e-08</td> <td>  -34.551</td> <td> 0.000</td> <td>-1.62e-06</td> <td>-1.45e-06</td>\n",
       "</tr>\n",
       "<tr>\n",
       "  <th>EcalE</th>     <td>-1.121e-05</td> <td> 6.14e-08</td> <td> -182.570</td> <td> 0.000</td> <td>-1.13e-05</td> <td>-1.11e-05</td>\n",
       "</tr>\n",
       "<tr>\n",
       "  <th>PrsE</th>      <td>   -0.0002</td> <td> 4.13e-06</td> <td>  -38.631</td> <td> 0.000</td> <td>   -0.000</td> <td>   -0.000</td>\n",
       "</tr>\n",
       "<tr>\n",
       "  <th>SpdE</th>      <td>    0.0002</td> <td> 4.19e-06</td> <td>   57.474</td> <td> 0.000</td> <td>    0.000</td> <td>    0.000</td>\n",
       "</tr>\n",
       "</table>\n",
       "<table class=\"simpletable\">\n",
       "<tr>\n",
       "  <th>Omnibus:</th>       <td>319858.880</td> <th>  Durbin-Watson:     </th>  <td>   2.001</td> \n",
       "</tr>\n",
       "<tr>\n",
       "  <th>Prob(Omnibus):</th>   <td> 0.000</td>   <th>  Jarque-Bera (JB):  </th> <td>643288.609</td>\n",
       "</tr>\n",
       "<tr>\n",
       "  <th>Skew:</th>            <td> 1.711</td>   <th>  Prob(JB):          </th>  <td>    0.00</td> \n",
       "</tr>\n",
       "<tr>\n",
       "  <th>Kurtosis:</th>        <td> 4.077</td>   <th>  Cond. No.          </th>  <td>1.08e+04</td> \n",
       "</tr>\n",
       "</table><br/><br/>Notes:<br/>[1] Standard Errors assume that the covariance matrix of the errors is correctly specified.<br/>[2] The condition number is large, 1.08e+04. This might indicate that there are<br/>strong multicollinearity or other numerical problems."
      ],
      "text/plain": [
       "<class 'statsmodels.iolib.summary.Summary'>\n",
       "\"\"\"\n",
       "                            OLS Regression Results                            \n",
       "==============================================================================\n",
       "Dep. Variable:                   Muon   R-squared:                       0.033\n",
       "Model:                            OLS   Adj. R-squared:                  0.033\n",
       "Method:                 Least Squares   F-statistic:                 1.038e+04\n",
       "Date:                Sat, 20 Nov 2021   Prob (F-statistic):               0.00\n",
       "Time:                        12:12:14   Log-Likelihood:            -4.9786e+05\n",
       "No. Observations:             1200000   AIC:                         9.957e+05\n",
       "Df Residuals:                 1199995   BIC:                         9.958e+05\n",
       "Df Model:                           4                                         \n",
       "Covariance Type:            nonrobust                                         \n",
       "==============================================================================\n",
       "                 coef    std err          t      P>|t|      [0.025      0.975]\n",
       "------------------------------------------------------------------------------\n",
       "Intercept      0.2109      0.000    490.575      0.000       0.210       0.212\n",
       "HcalE      -1.536e-06   4.45e-08    -34.551      0.000   -1.62e-06   -1.45e-06\n",
       "EcalE      -1.121e-05   6.14e-08   -182.570      0.000   -1.13e-05   -1.11e-05\n",
       "PrsE          -0.0002   4.13e-06    -38.631      0.000      -0.000      -0.000\n",
       "SpdE           0.0002   4.19e-06     57.474      0.000       0.000       0.000\n",
       "==============================================================================\n",
       "Omnibus:                   319858.880   Durbin-Watson:                   2.001\n",
       "Prob(Omnibus):                  0.000   Jarque-Bera (JB):           643288.609\n",
       "Skew:                           1.711   Prob(JB):                         0.00\n",
       "Kurtosis:                       4.077   Cond. No.                     1.08e+04\n",
       "==============================================================================\n",
       "\n",
       "Notes:\n",
       "[1] Standard Errors assume that the covariance matrix of the errors is correctly specified.\n",
       "[2] The condition number is large, 1.08e+04. This might indicate that there are\n",
       "strong multicollinearity or other numerical problems.\n",
       "\"\"\""
      ]
     },
     "execution_count": 79,
     "metadata": {},
     "output_type": "execute_result"
    }
   ],
   "source": [
    "\n",
    "formula = 'Muon ~ HcalE+EcalE+PrsE+SpdE'\n",
    "model = smf.ols(formula, data=RegData)\n",
    "results = model.fit()\n",
    "results.summary()"
   ]
  },
  {
   "cell_type": "code",
   "execution_count": 80,
   "id": "18ec08c5",
   "metadata": {},
   "outputs": [
    {
     "data": {
      "text/html": [
       "<table class=\"simpletable\">\n",
       "<caption>OLS Regression Results</caption>\n",
       "<tr>\n",
       "  <th>Dep. Variable:</th>          <td>Kaon</td>       <th>  R-squared:         </th>  <td>   0.011</td>  \n",
       "</tr>\n",
       "<tr>\n",
       "  <th>Model:</th>                   <td>OLS</td>       <th>  Adj. R-squared:    </th>  <td>   0.011</td>  \n",
       "</tr>\n",
       "<tr>\n",
       "  <th>Method:</th>             <td>Least Squares</td>  <th>  F-statistic:       </th>  <td>   3272.</td>  \n",
       "</tr>\n",
       "<tr>\n",
       "  <th>Date:</th>             <td>Sat, 20 Nov 2021</td> <th>  Prob (F-statistic):</th>   <td>  0.00</td>   \n",
       "</tr>\n",
       "<tr>\n",
       "  <th>Time:</th>                 <td>12:12:15</td>     <th>  Log-Likelihood:    </th> <td>-5.1177e+05</td>\n",
       "</tr>\n",
       "<tr>\n",
       "  <th>No. Observations:</th>      <td>1200000</td>     <th>  AIC:               </th>  <td>1.024e+06</td> \n",
       "</tr>\n",
       "<tr>\n",
       "  <th>Df Residuals:</th>          <td>1199995</td>     <th>  BIC:               </th>  <td>1.024e+06</td> \n",
       "</tr>\n",
       "<tr>\n",
       "  <th>Df Model:</th>              <td>     4</td>      <th>                     </th>      <td> </td>     \n",
       "</tr>\n",
       "<tr>\n",
       "  <th>Covariance Type:</th>      <td>nonrobust</td>    <th>                     </th>      <td> </td>     \n",
       "</tr>\n",
       "</table>\n",
       "<table class=\"simpletable\">\n",
       "<tr>\n",
       "      <td></td>         <th>coef</th>     <th>std err</th>      <th>t</th>      <th>P>|t|</th>  <th>[0.025</th>    <th>0.975]</th>  \n",
       "</tr>\n",
       "<tr>\n",
       "  <th>Intercept</th> <td>    0.1615</td> <td>    0.000</td> <td>  371.327</td> <td> 0.000</td> <td>    0.161</td> <td>    0.162</td>\n",
       "</tr>\n",
       "<tr>\n",
       "  <th>HcalE</th>     <td> 4.376e-06</td> <td>  4.5e-08</td> <td>   97.296</td> <td> 0.000</td> <td> 4.29e-06</td> <td> 4.46e-06</td>\n",
       "</tr>\n",
       "<tr>\n",
       "  <th>EcalE</th>     <td>-1.352e-06</td> <td> 6.21e-08</td> <td>  -21.751</td> <td> 0.000</td> <td>-1.47e-06</td> <td>-1.23e-06</td>\n",
       "</tr>\n",
       "<tr>\n",
       "  <th>PrsE</th>      <td>   -0.0002</td> <td> 4.18e-06</td> <td>  -40.039</td> <td> 0.000</td> <td>   -0.000</td> <td>   -0.000</td>\n",
       "</tr>\n",
       "<tr>\n",
       "  <th>SpdE</th>      <td>    0.0002</td> <td> 4.24e-06</td> <td>   43.630</td> <td> 0.000</td> <td>    0.000</td> <td>    0.000</td>\n",
       "</tr>\n",
       "</table>\n",
       "<table class=\"simpletable\">\n",
       "<tr>\n",
       "  <th>Omnibus:</th>       <td>334886.038</td> <th>  Durbin-Watson:     </th>  <td>   1.999</td> \n",
       "</tr>\n",
       "<tr>\n",
       "  <th>Prob(Omnibus):</th>   <td> 0.000</td>   <th>  Jarque-Bera (JB):  </th> <td>694384.352</td>\n",
       "</tr>\n",
       "<tr>\n",
       "  <th>Skew:</th>            <td> 1.758</td>   <th>  Prob(JB):          </th>  <td>    0.00</td> \n",
       "</tr>\n",
       "<tr>\n",
       "  <th>Kurtosis:</th>        <td> 4.234</td>   <th>  Cond. No.          </th>  <td>1.08e+04</td> \n",
       "</tr>\n",
       "</table><br/><br/>Notes:<br/>[1] Standard Errors assume that the covariance matrix of the errors is correctly specified.<br/>[2] The condition number is large, 1.08e+04. This might indicate that there are<br/>strong multicollinearity or other numerical problems."
      ],
      "text/plain": [
       "<class 'statsmodels.iolib.summary.Summary'>\n",
       "\"\"\"\n",
       "                            OLS Regression Results                            \n",
       "==============================================================================\n",
       "Dep. Variable:                   Kaon   R-squared:                       0.011\n",
       "Model:                            OLS   Adj. R-squared:                  0.011\n",
       "Method:                 Least Squares   F-statistic:                     3272.\n",
       "Date:                Sat, 20 Nov 2021   Prob (F-statistic):               0.00\n",
       "Time:                        12:12:15   Log-Likelihood:            -5.1177e+05\n",
       "No. Observations:             1200000   AIC:                         1.024e+06\n",
       "Df Residuals:                 1199995   BIC:                         1.024e+06\n",
       "Df Model:                           4                                         \n",
       "Covariance Type:            nonrobust                                         \n",
       "==============================================================================\n",
       "                 coef    std err          t      P>|t|      [0.025      0.975]\n",
       "------------------------------------------------------------------------------\n",
       "Intercept      0.1615      0.000    371.327      0.000       0.161       0.162\n",
       "HcalE       4.376e-06    4.5e-08     97.296      0.000    4.29e-06    4.46e-06\n",
       "EcalE      -1.352e-06   6.21e-08    -21.751      0.000   -1.47e-06   -1.23e-06\n",
       "PrsE          -0.0002   4.18e-06    -40.039      0.000      -0.000      -0.000\n",
       "SpdE           0.0002   4.24e-06     43.630      0.000       0.000       0.000\n",
       "==============================================================================\n",
       "Omnibus:                   334886.038   Durbin-Watson:                   1.999\n",
       "Prob(Omnibus):                  0.000   Jarque-Bera (JB):           694384.352\n",
       "Skew:                           1.758   Prob(JB):                         0.00\n",
       "Kurtosis:                       4.234   Cond. No.                     1.08e+04\n",
       "==============================================================================\n",
       "\n",
       "Notes:\n",
       "[1] Standard Errors assume that the covariance matrix of the errors is correctly specified.\n",
       "[2] The condition number is large, 1.08e+04. This might indicate that there are\n",
       "strong multicollinearity or other numerical problems.\n",
       "\"\"\""
      ]
     },
     "execution_count": 80,
     "metadata": {},
     "output_type": "execute_result"
    }
   ],
   "source": [
    "formula = 'Kaon ~ HcalE+EcalE+PrsE+SpdE'\n",
    "model = smf.ols(formula, data=RegData)\n",
    "results = model.fit()\n",
    "results.summary()"
   ]
  },
  {
   "cell_type": "code",
   "execution_count": null,
   "id": "9c56a0e8",
   "metadata": {},
   "outputs": [],
   "source": []
  }
 ],
 "metadata": {
  "kernelspec": {
   "display_name": "Python 3",
   "language": "python",
   "name": "python3"
  },
  "language_info": {
   "codemirror_mode": {
    "name": "ipython",
    "version": 3
   },
   "file_extension": ".py",
   "mimetype": "text/x-python",
   "name": "python",
   "nbconvert_exporter": "python",
   "pygments_lexer": "ipython3",
   "version": "3.8.8"
  }
 },
 "nbformat": 4,
 "nbformat_minor": 5
}
