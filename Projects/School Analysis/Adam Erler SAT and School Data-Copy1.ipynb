{
 "cells": [
  {
   "cell_type": "code",
   "execution_count": 1,
   "id": "f8021eb4",
   "metadata": {},
   "outputs": [],
   "source": [
    "import pandas as pd\n",
    "from matplotlib import figure\n",
    "from statsmodels.tsa.holtwinters import ExponentialSmoothing as HWES\n",
    "import numpy as np\n",
    "from sklearn.metrics import mean_squared_error\n",
    "from math import sqrt\n",
    "from sklearn.datasets import load_boston\n",
    "from sklearn.ensemble import RandomForestRegressor\n",
    "from sklearn.model_selection import train_test_split\n",
    "from sklearn.feature_selection import RFECV\n",
    "import matplotlib.pyplot as plt\n",
    "from sklearn.feature_selection import SelectFromModel\n",
    "from sklearn.feature_selection import RFE\n",
    "from sklearn.linear_model import Ridge\n",
    "from sklearn.preprocessing import StandardScaler\n",
    "from sklearn.linear_model import LinearRegression\n",
    "from sklearn.metrics import mean_squared_error\n",
    "# Setup data frame.\n",
    "df = pd.read_csv('MA_Public_Schools_2017.csv')"
   ]
  },
  {
   "cell_type": "code",
   "execution_count": 2,
   "id": "b3531027",
   "metadata": {},
   "outputs": [
    {
     "name": "stdout",
     "output_type": "stream",
     "text": [
      "(1861, 302)\n"
     ]
    },
    {
     "data": {
      "text/html": [
       "<div>\n",
       "<style scoped>\n",
       "    .dataframe tbody tr th:only-of-type {\n",
       "        vertical-align: middle;\n",
       "    }\n",
       "\n",
       "    .dataframe tbody tr th {\n",
       "        vertical-align: top;\n",
       "    }\n",
       "\n",
       "    .dataframe thead th {\n",
       "        text-align: right;\n",
       "    }\n",
       "</style>\n",
       "<table border=\"1\" class=\"dataframe\">\n",
       "  <thead>\n",
       "    <tr style=\"text-align: right;\">\n",
       "      <th></th>\n",
       "      <th>School Code</th>\n",
       "      <th>School Name</th>\n",
       "      <th>School Type</th>\n",
       "      <th>Function</th>\n",
       "      <th>Contact Name</th>\n",
       "      <th>Address 1</th>\n",
       "      <th>Address 2</th>\n",
       "      <th>Town</th>\n",
       "      <th>State</th>\n",
       "      <th>Zip</th>\n",
       "      <th>...</th>\n",
       "      <th>MCAS_10thGrade_English_Incl. in SGP(#)</th>\n",
       "      <th>Accountability and Assistance Level</th>\n",
       "      <th>Accountability and Assistance Description</th>\n",
       "      <th>School Accountability Percentile (1-99)</th>\n",
       "      <th>Progress and Performance Index (PPI) - All Students</th>\n",
       "      <th>Progress and Performance Index (PPI) - High Needs Students</th>\n",
       "      <th>District_Accountability and Assistance Level</th>\n",
       "      <th>District_Accountability and Assistance Description</th>\n",
       "      <th>District_Progress and Performance Index (PPI) - All Students</th>\n",
       "      <th>District_Progress and Performance Index (PPI) - High Needs Students</th>\n",
       "    </tr>\n",
       "  </thead>\n",
       "  <tbody>\n",
       "    <tr>\n",
       "      <th>0</th>\n",
       "      <td>10505</td>\n",
       "      <td>Abington High</td>\n",
       "      <td>Public School</td>\n",
       "      <td>Principal</td>\n",
       "      <td>Teresa Sullivan-Cruz</td>\n",
       "      <td>201 Gliniewicz Way</td>\n",
       "      <td>NaN</td>\n",
       "      <td>Abington</td>\n",
       "      <td>MA</td>\n",
       "      <td>2351</td>\n",
       "      <td>...</td>\n",
       "      <td>111.0</td>\n",
       "      <td>Level 1</td>\n",
       "      <td>Meeting gap narrowing goals</td>\n",
       "      <td>42.0</td>\n",
       "      <td>76.0</td>\n",
       "      <td>75.0</td>\n",
       "      <td>Level 3</td>\n",
       "      <td>One or more schools in the district classified...</td>\n",
       "      <td>63.0</td>\n",
       "      <td>60.0</td>\n",
       "    </tr>\n",
       "    <tr>\n",
       "      <th>1</th>\n",
       "      <td>10003</td>\n",
       "      <td>Beaver Brook Elementary School</td>\n",
       "      <td>Public School</td>\n",
       "      <td>Principal</td>\n",
       "      <td>Catherine Zinni</td>\n",
       "      <td>1 Ralph Hamlin Lane</td>\n",
       "      <td>NaN</td>\n",
       "      <td>Abington</td>\n",
       "      <td>MA</td>\n",
       "      <td>2351</td>\n",
       "      <td>...</td>\n",
       "      <td>NaN</td>\n",
       "      <td>Level 3</td>\n",
       "      <td>Among lowest performing 20% of subgroups</td>\n",
       "      <td>34.0</td>\n",
       "      <td>69.0</td>\n",
       "      <td>73.0</td>\n",
       "      <td>Level 3</td>\n",
       "      <td>One or more schools in the district classified...</td>\n",
       "      <td>63.0</td>\n",
       "      <td>60.0</td>\n",
       "    </tr>\n",
       "    <tr>\n",
       "      <th>2</th>\n",
       "      <td>10002</td>\n",
       "      <td>Center Elementary School</td>\n",
       "      <td>Public School</td>\n",
       "      <td>Principal</td>\n",
       "      <td>Lora Monachino</td>\n",
       "      <td>201 Gliniewicz Way</td>\n",
       "      <td>NaN</td>\n",
       "      <td>Abington</td>\n",
       "      <td>MA</td>\n",
       "      <td>2351</td>\n",
       "      <td>...</td>\n",
       "      <td>NaN</td>\n",
       "      <td>Insufficient data</td>\n",
       "      <td>NaN</td>\n",
       "      <td>NaN</td>\n",
       "      <td>NaN</td>\n",
       "      <td>NaN</td>\n",
       "      <td>Level 3</td>\n",
       "      <td>One or more schools in the district classified...</td>\n",
       "      <td>63.0</td>\n",
       "      <td>60.0</td>\n",
       "    </tr>\n",
       "    <tr>\n",
       "      <th>3</th>\n",
       "      <td>10405</td>\n",
       "      <td>Frolio Middle School</td>\n",
       "      <td>Public School</td>\n",
       "      <td>Principal</td>\n",
       "      <td>Matthew MacCurtain</td>\n",
       "      <td>201 Gliniewicz Way</td>\n",
       "      <td>NaN</td>\n",
       "      <td>Abington</td>\n",
       "      <td>MA</td>\n",
       "      <td>2351</td>\n",
       "      <td>...</td>\n",
       "      <td>NaN</td>\n",
       "      <td>Level 2</td>\n",
       "      <td>Not meeting gap narrowing goals</td>\n",
       "      <td>40.0</td>\n",
       "      <td>63.0</td>\n",
       "      <td>64.0</td>\n",
       "      <td>Level 3</td>\n",
       "      <td>One or more schools in the district classified...</td>\n",
       "      <td>63.0</td>\n",
       "      <td>60.0</td>\n",
       "    </tr>\n",
       "    <tr>\n",
       "      <th>4</th>\n",
       "      <td>10015</td>\n",
       "      <td>Woodsdale Elementary School</td>\n",
       "      <td>Public School</td>\n",
       "      <td>Principal</td>\n",
       "      <td>Jonathan Hawes</td>\n",
       "      <td>128 Chestnut Street</td>\n",
       "      <td>NaN</td>\n",
       "      <td>Abington</td>\n",
       "      <td>MA</td>\n",
       "      <td>2351</td>\n",
       "      <td>...</td>\n",
       "      <td>NaN</td>\n",
       "      <td>Level 2</td>\n",
       "      <td>Not meeting gap narrowing goals</td>\n",
       "      <td>52.0</td>\n",
       "      <td>65.0</td>\n",
       "      <td>67.0</td>\n",
       "      <td>Level 3</td>\n",
       "      <td>One or more schools in the district classified...</td>\n",
       "      <td>63.0</td>\n",
       "      <td>60.0</td>\n",
       "    </tr>\n",
       "  </tbody>\n",
       "</table>\n",
       "<p>5 rows × 302 columns</p>\n",
       "</div>"
      ],
      "text/plain": [
       "   School Code                     School Name    School Type   Function  \\\n",
       "0        10505                   Abington High  Public School  Principal   \n",
       "1        10003  Beaver Brook Elementary School  Public School  Principal   \n",
       "2        10002        Center Elementary School  Public School  Principal   \n",
       "3        10405            Frolio Middle School  Public School  Principal   \n",
       "4        10015     Woodsdale Elementary School  Public School  Principal   \n",
       "\n",
       "           Contact Name            Address 1 Address 2      Town State   Zip  \\\n",
       "0  Teresa Sullivan-Cruz   201 Gliniewicz Way       NaN  Abington    MA  2351   \n",
       "1       Catherine Zinni  1 Ralph Hamlin Lane       NaN  Abington    MA  2351   \n",
       "2        Lora Monachino   201 Gliniewicz Way       NaN  Abington    MA  2351   \n",
       "3    Matthew MacCurtain   201 Gliniewicz Way       NaN  Abington    MA  2351   \n",
       "4        Jonathan Hawes  128 Chestnut Street       NaN  Abington    MA  2351   \n",
       "\n",
       "   ... MCAS_10thGrade_English_Incl. in SGP(#)  \\\n",
       "0  ...                                  111.0   \n",
       "1  ...                                    NaN   \n",
       "2  ...                                    NaN   \n",
       "3  ...                                    NaN   \n",
       "4  ...                                    NaN   \n",
       "\n",
       "  Accountability and Assistance Level  \\\n",
       "0                             Level 1   \n",
       "1                             Level 3   \n",
       "2                   Insufficient data   \n",
       "3                             Level 2   \n",
       "4                             Level 2   \n",
       "\n",
       "  Accountability and Assistance Description  \\\n",
       "0               Meeting gap narrowing goals   \n",
       "1  Among lowest performing 20% of subgroups   \n",
       "2                                       NaN   \n",
       "3           Not meeting gap narrowing goals   \n",
       "4           Not meeting gap narrowing goals   \n",
       "\n",
       "  School Accountability Percentile (1-99)  \\\n",
       "0                                    42.0   \n",
       "1                                    34.0   \n",
       "2                                     NaN   \n",
       "3                                    40.0   \n",
       "4                                    52.0   \n",
       "\n",
       "   Progress and Performance Index (PPI) - All Students  \\\n",
       "0                                               76.0     \n",
       "1                                               69.0     \n",
       "2                                                NaN     \n",
       "3                                               63.0     \n",
       "4                                               65.0     \n",
       "\n",
       "   Progress and Performance Index (PPI) - High Needs Students  \\\n",
       "0                                               75.0            \n",
       "1                                               73.0            \n",
       "2                                                NaN            \n",
       "3                                               64.0            \n",
       "4                                               67.0            \n",
       "\n",
       "   District_Accountability and Assistance Level  \\\n",
       "0                                       Level 3   \n",
       "1                                       Level 3   \n",
       "2                                       Level 3   \n",
       "3                                       Level 3   \n",
       "4                                       Level 3   \n",
       "\n",
       "   District_Accountability and Assistance Description  \\\n",
       "0  One or more schools in the district classified...    \n",
       "1  One or more schools in the district classified...    \n",
       "2  One or more schools in the district classified...    \n",
       "3  One or more schools in the district classified...    \n",
       "4  One or more schools in the district classified...    \n",
       "\n",
       "   District_Progress and Performance Index (PPI) - All Students  \\\n",
       "0                                               63.0              \n",
       "1                                               63.0              \n",
       "2                                               63.0              \n",
       "3                                               63.0              \n",
       "4                                               63.0              \n",
       "\n",
       "   District_Progress and Performance Index (PPI) - High Needs Students  \n",
       "0                                               60.0                    \n",
       "1                                               60.0                    \n",
       "2                                               60.0                    \n",
       "3                                               60.0                    \n",
       "4                                               60.0                    \n",
       "\n",
       "[5 rows x 302 columns]"
      ]
     },
     "execution_count": 2,
     "metadata": {},
     "output_type": "execute_result"
    }
   ],
   "source": [
    "#Intial viewing of data setup and information\n",
    "print(df.shape)\n",
    "df.head()\n"
   ]
  },
  {
   "cell_type": "code",
   "execution_count": 3,
   "id": "34796db3",
   "metadata": {},
   "outputs": [
    {
     "data": {
      "text/plain": [
       "(332, 302)"
      ]
     },
     "execution_count": 3,
     "metadata": {},
     "output_type": "execute_result"
    }
   ],
   "source": [
    "# Using drop() to delete rows based on schools that do not support up to 12th grade. The goal of this project is to explore\n",
    "# SAT performance so we are going remove schools who do have SAT data to report.\n",
    "df= df.dropna(subset=['Average SAT_Reading'])\n",
    "df.shape"
   ]
  },
  {
   "cell_type": "markdown",
   "id": "ee4ce315",
   "metadata": {},
   "source": [
    "<h1> Features to cut </h1>\n",
    "<p> I am going to cut many features based on the the control a school could have over these values and some domain knoweldge on the topic. More or less they fit into two groups. One group is just descrivtive info about the school or building such as  fax number that truly should have no impact on the performance of the students. The other is based on measurements for lower grades. We are focusing on students who have SAT scores. This means while some schools could bave k-12 a typical school in the USA is either k-5, 6-8, or 9-12. With 9-12 being the students who gernally take the SAT. </p>\n",
    "<br>\n"
   ]
  },
  {
   "cell_type": "code",
   "execution_count": 4,
   "id": "a4b95db3",
   "metadata": {},
   "outputs": [],
   "source": [
    "droplist = ['School Name','Function','Contact Name','Address 1','Address 2','Town','State','Phone','Fax','Grade',\n",
    "            'PK_Enrollment','1_Enrollment','2_Enrollment','3_Enrollment','4_Enrollment','5_Enrollment','6_Enrollment',\n",
    "            '7_Enrollment','8_Enrollment','District Name', 'District Code', 'K_Enrollment','MCAS_3rdGrade_Math_P+A #', \n",
    "            '% MCAS_3rdGrade_Math_P+A', 'MCAS_3rdGrade_Math_A #', '% MCAS_3rdGrade_Math_A', 'MCAS_3rdGrade_Math_P #', \n",
    "            '% MCAS_3rdGrade_Math_P', 'MCAS_3rdGrade_Math_NI #', '% MCAS_3rdGrade_Math_NI', 'MCAS_3rdGrade_Math_W/F #', \n",
    "            '% MCAS_3rdGrade_Math_W/F', 'MCAS_3rdGrade_Math_Stud. Incl. #', 'MCAS_3rdGrade_Math_CPI', 'MCAS_3rdGrade_Math_SGP',\n",
    "            'MCAS_3rdGrade_Math_Incl. in SGP(#)', 'MCAS_4thGrade_Math_P+A #', '% MCAS_4thGrade_Math_P+A', \n",
    "            'MCAS_4thGrade_Math_A #', '% MCAS_4thGrade_Math_A', 'MCAS_4thGrade_Math_P #', '% MCAS_4thGrade_Math_P', \n",
    "            'MCAS_4thGrade_Math_NI #', '% MCAS_4thGrade_Math_NI', 'MCAS_4thGrade_Math_W/F #', '% MCAS_4thGrade_Math_W/F', \n",
    "            'MCAS_4thGrade_Math_Stud. Incl. #', 'MCAS_4thGrade_Math_CPI', 'MCAS_4thGrade_Math_SGP', \n",
    "            'MCAS_4thGrade_Math_Incl. in SGP(#)', 'MCAS_5thGrade_Math_P+A #', '% MCAS_5thGrade_Math_P+A', \n",
    "            'MCAS_5thGrade_Math_A #', '% MCAS_5thGrade_Math_A', 'MCAS_5thGrade_Math_P #', '% MCAS_5thGrade_Math_P', \n",
    "            'MCAS_5thGrade_Math_NI #', '% MCAS_5thGrade_Math_NI', 'MCAS_5thGrade_Math_W/F #', '% MCAS_5thGrade_Math_W/F', \n",
    "            'MCAS_5thGrade_Math_Stud. Incl. #', 'MCAS_5thGrade_Math_CPI', 'MCAS_5thGrade_Math_SGP', \n",
    "            'MCAS_5thGrade_Math_Incl. in SGP(#)', 'MCAS_6thGrade_Math_P+A #', '% MCAS_6thGrade_Math_P+A', \n",
    "            'MCAS_6thGrade_Math_A #', '% MCAS_6thGrade_Math_A', 'MCAS_6thGrade_Math_P #', '% MCAS_6thGrade_Math_P', \n",
    "            'MCAS_6thGrade_Math_NI #', '% MCAS_6thGrade_Math_NI', 'MCAS_6thGrade_Math_W/F #', '% MCAS_6thGrade_Math_W/F', \n",
    "            'MCAS_6thGrade_Math_Stud. Incl. #', 'MCAS_6thGrade_Math_CPI', 'MCAS_6thGrade_Math_SGP', \n",
    "            'MCAS_6thGrade_Math_Incl. in SGP(#)', 'MCAS_7thGrade_Math_P+A #', '% MCAS_7thGrade_Math_P+A', \n",
    "            'MCAS_7thGrade_Math_A #', '% MCAS_7thGrade_Math_A', 'MCAS_7thGrade_Math_P #', '% MCAS_7thGrade_Math_P', \n",
    "            'MCAS_7thGrade_Math_NI #', '% MCAS_7thGrade_Math_NI', 'MCAS_7thGrade_Math_W/F #', '% MCAS_7thGrade_Math_W/F', \n",
    "            'MCAS_7thGrade_Math_Stud. Incl. #', 'MCAS_7thGrade_Math_CPI', 'MCAS_7thGrade_Math_SGP',\n",
    "            'MCAS_7thGrade_Math_Incl. in SGP(#)', 'MCAS_8thGrade_Math_P+A #', '% MCAS_8thGrade_Math_P+A', \n",
    "            'MCAS_8thGrade_Math_A #', '% MCAS_8thGrade_Math_A', 'MCAS_8thGrade_Math_P #', '% MCAS_8thGrade_Math_P',\n",
    "            'MCAS_8thGrade_Math_NI #', '% MCAS_8thGrade_Math_NI', 'MCAS_8thGrade_Math_W/F #', \n",
    "            '% MCAS_8thGrade_Math_W/F', 'MCAS_8thGrade_Math_Stud. Incl. #', 'MCAS_8thGrade_Math_CPI',\n",
    "            'MCAS_8thGrade_Math_SGP', 'MCAS_8thGrade_Math_Incl. in SGP(#)','MCAS_3rdGrade_English_P+A #',\n",
    "            '% MCAS_3rdGrade_English_P+A', 'MCAS_3rdGrade_English_A #', '% MCAS_3rdGrade_English_A', \n",
    "            'MCAS_3rdGrade_English_P #', '% MCAS_3rdGrade_English_P', 'MCAS_3rdGrade_English_NI #', \n",
    "            '% MCAS_3rdGrade_English_NI', 'MCAS_3rdGrade_English_W/F #', '% MCAS_3rdGrade_English_W/F', \n",
    "            'MCAS_3rdGrade_English_Stud. Incl. #', 'MCAS_3rdGrade_English_CPI', 'MCAS_3rdGrade_English_SGP',\n",
    "            'MCAS_3rdGrade_English_Incl. in SGP(#)', 'MCAS_4thGrade_English_P+A #', \n",
    "            '% MCAS_4thGrade_English_P+A', 'MCAS_4thGrade_English_A #', '% MCAS_4thGrade_English_A',\n",
    "            'MCAS_4thGrade_English_P #', '% MCAS_4thGrade_English_P', 'MCAS_4thGrade_English_NI #', \n",
    "            '% MCAS_4thGrade_English_NI', 'MCAS_4thGrade_English_W/F #', '% MCAS_4thGrade_English_W/F',\n",
    "            'MCAS_4thGrade_English_Stud. Incl. #', 'MCAS_4thGrade_English_CPI', 'MCAS_4thGrade_English_SGP', \n",
    "            'MCAS_4thGrade_English_Incl. in SGP(#)', 'MCAS_5thGrade_English_P+A #', '% MCAS_5thGrade_English_P+A',\n",
    "            'MCAS_5thGrade_English_A #', '% MCAS_5thGrade_English_A', 'MCAS_5thGrade_English_P #',\n",
    "            '% MCAS_5thGrade_English_P', 'MCAS_5thGrade_English_NI #', '% MCAS_5thGrade_English_NI', \n",
    "            'MCAS_5thGrade_English_W/F #', '% MCAS_5thGrade_English_W/F',\n",
    "            'MCAS_5thGrade_English_Stud. Incl. #', 'MCAS_5thGrade_English_CPI', 'MCAS_5thGrade_English_SGP', \n",
    "            'MCAS_5thGrade_English_Incl. in SGP(#)', 'MCAS_6thGrade_English_P+A #',\n",
    "            '% MCAS_6thGrade_English_P+A', 'MCAS_6thGrade_English_A #', '% MCAS_6thGrade_English_A',\n",
    "            'MCAS_6thGrade_English_P #', '% MCAS_6thGrade_English_P', 'MCAS_6thGrade_English_NI #', \n",
    "            '% MCAS_6thGrade_English_NI', 'MCAS_6thGrade_English_W/F #', '% MCAS_6thGrade_English_W/F',\n",
    "            'MCAS_6thGrade_English_Stud. Incl. #', 'MCAS_6thGrade_English_CPI', 'MCAS_6thGrade_English_SGP', \n",
    "            'MCAS_6thGrade_English_Incl. in SGP(#)', 'MCAS_7thGrade_English_P+A #', '% MCAS_7thGrade_English_P+A',\n",
    "            'MCAS_7thGrade_English_A #', '% MCAS_7thGrade_English_A', 'MCAS_7thGrade_English_P #',\n",
    "            '% MCAS_7thGrade_English_P', 'MCAS_7thGrade_English_NI #', '% MCAS_7thGrade_English_NI', \n",
    "            'MCAS_7thGrade_English_W/F #', '% MCAS_7thGrade_English_W/F',\n",
    "            'MCAS_7thGrade_English_Stud. Incl. #', 'MCAS_7thGrade_English_CPI', \n",
    "            'MCAS_7thGrade_English_SGP', 'MCAS_7thGrade_English_Incl. in SGP(#)',\n",
    "            'MCAS_8thGrade_English_P+A #', '% MCAS_8thGrade_English_P+A', 'MCAS_8thGrade_English_A #', \n",
    "            '% MCAS_8thGrade_English_A', 'MCAS_8thGrade_English_P #', '% MCAS_8thGrade_English_P',\n",
    "            'MCAS_8thGrade_English_NI #', '% MCAS_8thGrade_English_NI', 'MCAS_8thGrade_English_W/F #', \n",
    "            '% MCAS_8thGrade_English_W/F', 'MCAS_8thGrade_English_Stud. Incl. #', 'MCAS_8thGrade_English_CPI',\n",
    "            'MCAS_8thGrade_English_SGP', 'MCAS_8thGrade_English_Incl. in SGP(#)',\n",
    "            '% MCAS_10thGrade_Math_A', 'MCAS_10thGrade_Math_CPI','% MCAS_10thGrade_English_A', '% MCAS_10thGrade_English_P',\n",
    "            '% MA Community College','% MA State University', '% Private Four-Year', '% Public Two-Year',\n",
    "            '% MCAS_10thGrade_Math_P+A','% MCAS_10thGrade_Math_NI']"
   ]
  },
  {
   "cell_type": "code",
   "execution_count": 5,
   "id": "7e468a94",
   "metadata": {},
   "outputs": [],
   "source": [
    "df = df.drop(droplist, axis=1)"
   ]
  },
  {
   "cell_type": "code",
   "execution_count": 6,
   "id": "44d7fa7a",
   "metadata": {},
   "outputs": [
    {
     "name": "stdout",
     "output_type": "stream",
     "text": [
      "School Code int64\n",
      "School Type object\n",
      "Zip int64\n",
      "9_Enrollment int64\n",
      "10_Enrollment int64\n",
      "11_Enrollment int64\n",
      "12_Enrollment int64\n",
      "SP_Enrollment int64\n",
      "TOTAL_Enrollment int64\n",
      "First Language Not English float64\n",
      "% First Language Not English float64\n",
      "English Language Learner float64\n",
      "% English Language Learner float64\n",
      "Students With Disabilities float64\n",
      "% Students With Disabilities float64\n",
      "High Needs float64\n",
      "% High Needs float64\n",
      "Economically Disadvantaged float64\n",
      "% Economically Disadvantaged float64\n",
      "% African American float64\n",
      "% Asian float64\n",
      "% Hispanic float64\n",
      "% White float64\n",
      "% Native American float64\n",
      "% Native Hawaiian, Pacific Islander float64\n",
      "% Multi-Race, Non-Hispanic float64\n",
      "% Males float64\n",
      "% Females float64\n",
      "Total # of Classes float64\n",
      "Average Class Size float64\n",
      "Number of Students float64\n",
      "Salary Totals float64\n",
      "Average Salary float64\n",
      "FTE Count float64\n",
      "In-District Expenditures float64\n",
      "Total In-district FTEs float64\n",
      "Average In-District Expenditures per Pupil float64\n",
      "Total Expenditures float64\n",
      "Total Pupil FTEs float64\n",
      "Average Expenditures per Pupil float64\n",
      "# in Cohort float64\n",
      "% Graduated float64\n",
      "% Still in School float64\n",
      "% Non-Grad Completers float64\n",
      "% GED float64\n",
      "% Dropped Out float64\n",
      "% Permanently Excluded float64\n",
      "High School Graduates (#) float64\n",
      "Attending Coll./Univ. (#) float64\n",
      "% Attending College float64\n",
      "% Private Two-Year float64\n",
      "% Public Four-Year float64\n",
      "% UMass float64\n",
      "AP_Test Takers object\n",
      "AP_Tests Taken object\n",
      "AP_One Test float64\n",
      "AP_Two Tests float64\n",
      "AP_Three Tests float64\n",
      "AP_Four Tests float64\n",
      "AP_Five or More Tests float64\n",
      "AP_Score=1 float64\n",
      "AP_Score=2 float64\n",
      "AP_Score=3 float64\n",
      "AP_Score=4 float64\n",
      "AP_Score=5 float64\n",
      "% AP_Score 1-2 float64\n",
      "% AP_Score 3-5 float64\n",
      "SAT_Tests Taken float64\n",
      "Average SAT_Reading float64\n",
      "Average SAT_Writing float64\n",
      "Average SAT_Math float64\n",
      "MCAS_10thGrade_Math_P+A # float64\n",
      "MCAS_10thGrade_Math_A # float64\n",
      "MCAS_10thGrade_Math_P # float64\n",
      "% MCAS_10thGrade_Math_P float64\n",
      "MCAS_10thGrade_Math_NI # float64\n",
      "MCAS_10thGrade_Math_W/F # float64\n",
      "% MCAS_10thGrade_Math_W/F float64\n",
      "MCAS_10thGrade_Math_Stud. Incl. # float64\n",
      "MCAS_10thGrade_Math_SGP float64\n",
      "MCAS_10thGrade_Math_Incl. in SGP(#) float64\n",
      "MCAS_10thGrade_English_P+A # float64\n",
      "% MCAS_10thGrade_English_P+A float64\n",
      "MCAS_10thGrade_English_A # float64\n",
      "MCAS_10thGrade_English_P # float64\n",
      "MCAS_10thGrade_English_NI # float64\n",
      "% MCAS_10thGrade_English_NI float64\n",
      "MCAS_10thGrade_English_W/F # float64\n",
      "% MCAS_10thGrade_English_W/F float64\n",
      "MCAS_10thGrade_English_Stud. Incl. # float64\n",
      "MCAS_10thGrade_English_CPI float64\n",
      "MCAS_10thGrade_English_SGP float64\n",
      "MCAS_10thGrade_English_Incl. in SGP(#) float64\n",
      "Accountability and Assistance Level object\n",
      "Accountability and Assistance Description object\n",
      "School Accountability Percentile (1-99) float64\n",
      "Progress and Performance Index (PPI) - All Students float64\n",
      "Progress and Performance Index (PPI) - High Needs Students float64\n",
      "District_Accountability and Assistance Level object\n",
      "District_Accountability and Assistance Description object\n",
      "District_Progress and Performance Index (PPI) - All Students float64\n",
      "District_Progress and Performance Index (PPI) - High Needs Students float64\n"
     ]
    }
   ],
   "source": [
    "#Clean Columns I am going to manually review the types of the objects and autmatically fill in the NA values based on their type.\n",
    "cols = df.columns\n",
    "for column in cols:\n",
    "    print(column , df[column].dtype)\n",
    "for column in cols:\n",
    "    datatype = df[column].dtype\n",
    "    if datatype == 'int64':\n",
    "        mean = df[column].mean()\n",
    "        df[column]=df[column].fillna(mean)\n",
    "    elif datatype =='float64':\n",
    "        mean = df[column].mean()\n",
    "        df[column]=df[column].fillna(mean)\n",
    "    else:\n",
    "        mode = df[column].mode()\n",
    "        df[column]=df[column].fillna(mode)"
   ]
  },
  {
   "cell_type": "code",
   "execution_count": 7,
   "id": "b33f4468",
   "metadata": {},
   "outputs": [],
   "source": [
    "#Upon review we can see the AP_Test Takers and AP_Tests Taken are listed as objects. A quick view of the columns shows\n",
    "#they should be numerical values so I am going to convert the strings in the columns and replace na again to see if this handels\n",
    "#the cleaning needed.\n",
    "\n",
    "df['AP_Test Takers']=df['AP_Test Takers'].str.replace(',','')\n",
    "df['AP_Test Takers'] = df['AP_Test Takers'].apply(lambda x: float(x))\n",
    "\n",
    "df['AP_Tests Taken']=df['AP_Tests Taken'].str.replace(',','')\n",
    "df['AP_Tests Taken'] = df['AP_Tests Taken'].apply(lambda x: float(x))"
   ]
  },
  {
   "cell_type": "code",
   "execution_count": 8,
   "id": "7c202f7d",
   "metadata": {},
   "outputs": [
    {
     "name": "stdout",
     "output_type": "stream",
     "text": [
      "School Code int64\n",
      "School Type object\n",
      "Zip int64\n",
      "9_Enrollment int64\n",
      "10_Enrollment int64\n",
      "11_Enrollment int64\n",
      "12_Enrollment int64\n",
      "SP_Enrollment int64\n",
      "TOTAL_Enrollment int64\n",
      "First Language Not English float64\n",
      "% First Language Not English float64\n",
      "English Language Learner float64\n",
      "% English Language Learner float64\n",
      "Students With Disabilities float64\n",
      "% Students With Disabilities float64\n",
      "High Needs float64\n",
      "% High Needs float64\n",
      "Economically Disadvantaged float64\n",
      "% Economically Disadvantaged float64\n",
      "% African American float64\n",
      "% Asian float64\n",
      "% Hispanic float64\n",
      "% White float64\n",
      "% Native American float64\n",
      "% Native Hawaiian, Pacific Islander float64\n",
      "% Multi-Race, Non-Hispanic float64\n",
      "% Males float64\n",
      "% Females float64\n",
      "Total # of Classes float64\n",
      "Average Class Size float64\n",
      "Number of Students float64\n",
      "Salary Totals float64\n",
      "Average Salary float64\n",
      "FTE Count float64\n",
      "In-District Expenditures float64\n",
      "Total In-district FTEs float64\n",
      "Average In-District Expenditures per Pupil float64\n",
      "Total Expenditures float64\n",
      "Total Pupil FTEs float64\n",
      "Average Expenditures per Pupil float64\n",
      "# in Cohort float64\n",
      "% Graduated float64\n",
      "% Still in School float64\n",
      "% Non-Grad Completers float64\n",
      "% GED float64\n",
      "% Dropped Out float64\n",
      "% Permanently Excluded float64\n",
      "High School Graduates (#) float64\n",
      "Attending Coll./Univ. (#) float64\n",
      "% Attending College float64\n",
      "% Private Two-Year float64\n",
      "% Public Four-Year float64\n",
      "% UMass float64\n",
      "AP_Test Takers float64\n",
      "AP_Tests Taken float64\n",
      "AP_One Test float64\n",
      "AP_Two Tests float64\n",
      "AP_Three Tests float64\n",
      "AP_Four Tests float64\n",
      "AP_Five or More Tests float64\n",
      "AP_Score=1 float64\n",
      "AP_Score=2 float64\n",
      "AP_Score=3 float64\n",
      "AP_Score=4 float64\n",
      "AP_Score=5 float64\n",
      "% AP_Score 1-2 float64\n",
      "% AP_Score 3-5 float64\n",
      "SAT_Tests Taken float64\n",
      "Average SAT_Reading float64\n",
      "Average SAT_Writing float64\n",
      "Average SAT_Math float64\n",
      "MCAS_10thGrade_Math_P+A # float64\n",
      "MCAS_10thGrade_Math_A # float64\n",
      "MCAS_10thGrade_Math_P # float64\n",
      "% MCAS_10thGrade_Math_P float64\n",
      "MCAS_10thGrade_Math_NI # float64\n",
      "MCAS_10thGrade_Math_W/F # float64\n",
      "% MCAS_10thGrade_Math_W/F float64\n",
      "MCAS_10thGrade_Math_Stud. Incl. # float64\n",
      "MCAS_10thGrade_Math_SGP float64\n",
      "MCAS_10thGrade_Math_Incl. in SGP(#) float64\n",
      "MCAS_10thGrade_English_P+A # float64\n",
      "% MCAS_10thGrade_English_P+A float64\n",
      "MCAS_10thGrade_English_A # float64\n",
      "MCAS_10thGrade_English_P # float64\n",
      "MCAS_10thGrade_English_NI # float64\n",
      "% MCAS_10thGrade_English_NI float64\n",
      "MCAS_10thGrade_English_W/F # float64\n",
      "% MCAS_10thGrade_English_W/F float64\n",
      "MCAS_10thGrade_English_Stud. Incl. # float64\n",
      "MCAS_10thGrade_English_CPI float64\n",
      "MCAS_10thGrade_English_SGP float64\n",
      "MCAS_10thGrade_English_Incl. in SGP(#) float64\n",
      "Accountability and Assistance Level object\n",
      "Accountability and Assistance Description object\n",
      "School Accountability Percentile (1-99) float64\n",
      "Progress and Performance Index (PPI) - All Students float64\n",
      "Progress and Performance Index (PPI) - High Needs Students float64\n",
      "District_Accountability and Assistance Level object\n",
      "District_Accountability and Assistance Description object\n",
      "District_Progress and Performance Index (PPI) - All Students float64\n",
      "District_Progress and Performance Index (PPI) - High Needs Students float64\n"
     ]
    }
   ],
   "source": [
    "# I ran this batch of code again after cleaning the two columns to ensure we hadled any na values.\n",
    "cols = df.columns\n",
    "for column in cols:\n",
    "    print(column , df[column].dtype)\n",
    "for column in cols:\n",
    "    datatype = df[column].dtype\n",
    "    if datatype == 'int64':\n",
    "        mean = df[column].mean()\n",
    "        df[column]=df[column].fillna(mean)\n",
    "    elif datatype =='float64':\n",
    "        mean = df[column].mean()\n",
    "        df[column]=df[column].fillna(mean)\n",
    "    else:\n",
    "        mode = df[column].mode()\n",
    "        df[column]=df[column].fillna(mode)"
   ]
  },
  {
   "cell_type": "code",
   "execution_count": 9,
   "id": "8f8c729e",
   "metadata": {},
   "outputs": [
    {
     "data": {
      "text/html": [
       "<div>\n",
       "<style scoped>\n",
       "    .dataframe tbody tr th:only-of-type {\n",
       "        vertical-align: middle;\n",
       "    }\n",
       "\n",
       "    .dataframe tbody tr th {\n",
       "        vertical-align: top;\n",
       "    }\n",
       "\n",
       "    .dataframe thead th {\n",
       "        text-align: right;\n",
       "    }\n",
       "</style>\n",
       "<table border=\"1\" class=\"dataframe\">\n",
       "  <thead>\n",
       "    <tr style=\"text-align: right;\">\n",
       "      <th></th>\n",
       "      <th>School Code</th>\n",
       "      <th>Zip</th>\n",
       "      <th>9_Enrollment</th>\n",
       "      <th>10_Enrollment</th>\n",
       "      <th>11_Enrollment</th>\n",
       "      <th>12_Enrollment</th>\n",
       "      <th>SP_Enrollment</th>\n",
       "      <th>TOTAL_Enrollment</th>\n",
       "      <th>First Language Not English</th>\n",
       "      <th>% First Language Not English</th>\n",
       "      <th>...</th>\n",
       "      <th>Low assessment participation (Less than 95%)</th>\n",
       "      <th>Meeting gap narrowing goals</th>\n",
       "      <th>Not meeting gap narrowing goals</th>\n",
       "      <th>One or more schools in the district classified into Level 1</th>\n",
       "      <th>One or more schools in the district classified into Level 2</th>\n",
       "      <th>One or more schools in the district classified into Level 3</th>\n",
       "      <th>One or more schools in the district classified into Level 4</th>\n",
       "      <th>Persistently low graduation rate for one or more groups</th>\n",
       "      <th>Underperforming district</th>\n",
       "      <th>Very low assessment participation (Less than 90%)</th>\n",
       "    </tr>\n",
       "  </thead>\n",
       "  <tbody>\n",
       "    <tr>\n",
       "      <th>0</th>\n",
       "      <td>10505</td>\n",
       "      <td>2351</td>\n",
       "      <td>124</td>\n",
       "      <td>109</td>\n",
       "      <td>123</td>\n",
       "      <td>92</td>\n",
       "      <td>4</td>\n",
       "      <td>452</td>\n",
       "      <td>24.0</td>\n",
       "      <td>5.3</td>\n",
       "      <td>...</td>\n",
       "      <td>0</td>\n",
       "      <td>0</td>\n",
       "      <td>0</td>\n",
       "      <td>0</td>\n",
       "      <td>0</td>\n",
       "      <td>1</td>\n",
       "      <td>0</td>\n",
       "      <td>0</td>\n",
       "      <td>0</td>\n",
       "      <td>0</td>\n",
       "    </tr>\n",
       "    <tr>\n",
       "      <th>8</th>\n",
       "      <td>50505</td>\n",
       "      <td>1001</td>\n",
       "      <td>299</td>\n",
       "      <td>309</td>\n",
       "      <td>293</td>\n",
       "      <td>315</td>\n",
       "      <td>6</td>\n",
       "      <td>1222</td>\n",
       "      <td>56.0</td>\n",
       "      <td>4.6</td>\n",
       "      <td>...</td>\n",
       "      <td>0</td>\n",
       "      <td>0</td>\n",
       "      <td>0</td>\n",
       "      <td>0</td>\n",
       "      <td>1</td>\n",
       "      <td>0</td>\n",
       "      <td>0</td>\n",
       "      <td>0</td>\n",
       "      <td>0</td>\n",
       "      <td>0</td>\n",
       "    </tr>\n",
       "    <tr>\n",
       "      <th>16</th>\n",
       "      <td>70505</td>\n",
       "      <td>1913</td>\n",
       "      <td>147</td>\n",
       "      <td>138</td>\n",
       "      <td>145</td>\n",
       "      <td>163</td>\n",
       "      <td>1</td>\n",
       "      <td>594</td>\n",
       "      <td>17.0</td>\n",
       "      <td>2.9</td>\n",
       "      <td>...</td>\n",
       "      <td>0</td>\n",
       "      <td>0</td>\n",
       "      <td>0</td>\n",
       "      <td>0</td>\n",
       "      <td>1</td>\n",
       "      <td>0</td>\n",
       "      <td>0</td>\n",
       "      <td>0</td>\n",
       "      <td>0</td>\n",
       "      <td>0</td>\n",
       "    </tr>\n",
       "    <tr>\n",
       "      <th>23</th>\n",
       "      <td>90505</td>\n",
       "      <td>1810</td>\n",
       "      <td>446</td>\n",
       "      <td>459</td>\n",
       "      <td>421</td>\n",
       "      <td>462</td>\n",
       "      <td>18</td>\n",
       "      <td>1806</td>\n",
       "      <td>172.0</td>\n",
       "      <td>9.5</td>\n",
       "      <td>...</td>\n",
       "      <td>0</td>\n",
       "      <td>0</td>\n",
       "      <td>0</td>\n",
       "      <td>0</td>\n",
       "      <td>1</td>\n",
       "      <td>0</td>\n",
       "      <td>0</td>\n",
       "      <td>0</td>\n",
       "      <td>0</td>\n",
       "      <td>0</td>\n",
       "    </tr>\n",
       "    <tr>\n",
       "      <th>33</th>\n",
       "      <td>100505</td>\n",
       "      <td>2476</td>\n",
       "      <td>332</td>\n",
       "      <td>350</td>\n",
       "      <td>312</td>\n",
       "      <td>295</td>\n",
       "      <td>1</td>\n",
       "      <td>1290</td>\n",
       "      <td>160.0</td>\n",
       "      <td>12.4</td>\n",
       "      <td>...</td>\n",
       "      <td>0</td>\n",
       "      <td>0</td>\n",
       "      <td>0</td>\n",
       "      <td>0</td>\n",
       "      <td>1</td>\n",
       "      <td>0</td>\n",
       "      <td>0</td>\n",
       "      <td>0</td>\n",
       "      <td>0</td>\n",
       "      <td>0</td>\n",
       "    </tr>\n",
       "  </tbody>\n",
       "</table>\n",
       "<p>5 rows × 134 columns</p>\n",
       "</div>"
      ],
      "text/plain": [
       "    School Code   Zip  9_Enrollment  10_Enrollment  11_Enrollment  \\\n",
       "0         10505  2351           124            109            123   \n",
       "8         50505  1001           299            309            293   \n",
       "16        70505  1913           147            138            145   \n",
       "23        90505  1810           446            459            421   \n",
       "33       100505  2476           332            350            312   \n",
       "\n",
       "    12_Enrollment  SP_Enrollment  TOTAL_Enrollment  \\\n",
       "0              92              4               452   \n",
       "8             315              6              1222   \n",
       "16            163              1               594   \n",
       "23            462             18              1806   \n",
       "33            295              1              1290   \n",
       "\n",
       "    First Language Not English  % First Language Not English  ...  \\\n",
       "0                         24.0                           5.3  ...   \n",
       "8                         56.0                           4.6  ...   \n",
       "16                        17.0                           2.9  ...   \n",
       "23                       172.0                           9.5  ...   \n",
       "33                       160.0                          12.4  ...   \n",
       "\n",
       "    Low assessment participation (Less than 95%)  Meeting gap narrowing goals  \\\n",
       "0                                              0                            0   \n",
       "8                                              0                            0   \n",
       "16                                             0                            0   \n",
       "23                                             0                            0   \n",
       "33                                             0                            0   \n",
       "\n",
       "    Not meeting gap narrowing goals  \\\n",
       "0                                 0   \n",
       "8                                 0   \n",
       "16                                0   \n",
       "23                                0   \n",
       "33                                0   \n",
       "\n",
       "    One or more schools in the district classified into Level 1  \\\n",
       "0                                                   0             \n",
       "8                                                   0             \n",
       "16                                                  0             \n",
       "23                                                  0             \n",
       "33                                                  0             \n",
       "\n",
       "    One or more schools in the district classified into Level 2  \\\n",
       "0                                                   0             \n",
       "8                                                   1             \n",
       "16                                                  1             \n",
       "23                                                  1             \n",
       "33                                                  1             \n",
       "\n",
       "    One or more schools in the district classified into Level 3  \\\n",
       "0                                                   1             \n",
       "8                                                   0             \n",
       "16                                                  0             \n",
       "23                                                  0             \n",
       "33                                                  0             \n",
       "\n",
       "    One or more schools in the district classified into Level 4  \\\n",
       "0                                                   0             \n",
       "8                                                   0             \n",
       "16                                                  0             \n",
       "23                                                  0             \n",
       "33                                                  0             \n",
       "\n",
       "    Persistently low graduation rate for one or more groups  \\\n",
       "0                                                   0         \n",
       "8                                                   0         \n",
       "16                                                  0         \n",
       "23                                                  0         \n",
       "33                                                  0         \n",
       "\n",
       "    Underperforming district  \\\n",
       "0                          0   \n",
       "8                          0   \n",
       "16                         0   \n",
       "23                         0   \n",
       "33                         0   \n",
       "\n",
       "    Very low assessment participation (Less than 90%)  \n",
       "0                                                   0  \n",
       "8                                                   0  \n",
       "16                                                  0  \n",
       "23                                                  0  \n",
       "33                                                  0  \n",
       "\n",
       "[5 rows x 134 columns]"
      ]
     },
     "execution_count": 9,
     "metadata": {},
     "output_type": "execute_result"
    }
   ],
   "source": [
    "#make dummies to keep track of catergorical values.\n",
    "\n",
    "dummylist = []\n",
    "for column in cols:\n",
    "    datatype = df[column].dtype\n",
    "    if datatype == object:\n",
    "        dummylist.append(column)\n",
    "\n",
    "df_dummies = pd.get_dummies(df, prefix='', prefix_sep='', columns=dummylist)\n",
    "df_dummies.head()"
   ]
  },
  {
   "cell_type": "code",
   "execution_count": 10,
   "id": "cdd5624a",
   "metadata": {},
   "outputs": [],
   "source": [
    "# I am going to split the data between the targets and features.\n",
    "droplist3=[\"Average SAT_Writing\",'Average SAT_Math','Average SAT_Reading']\n",
    "Y= df[[\"Average SAT_Writing\",'Average SAT_Math','Average SAT_Reading']]\n",
    "X = df_dummies.drop(columns=droplist3)\n"
   ]
  },
  {
   "cell_type": "code",
   "execution_count": 11,
   "id": "264e3f13",
   "metadata": {},
   "outputs": [],
   "source": [
    "#A 2/3 split to create the testing and training groups based on the list created prior.\n",
    "X_train, X_test, y_train, y_test = train_test_split( X, Y, test_size=0.33, random_state=42)"
   ]
  },
  {
   "cell_type": "code",
   "execution_count": 12,
   "id": "303c87fc",
   "metadata": {},
   "outputs": [],
   "source": [
    "# Scaled the data to make the computation more efficient. \n",
    "sc = StandardScaler()\n",
    "X_train_norm = sc.fit_transform(X_train)\n",
    "X_test_norm = sc.transform(X_test)"
   ]
  },
  {
   "cell_type": "code",
   "execution_count": 13,
   "id": "3a49b3c4",
   "metadata": {},
   "outputs": [
    {
     "data": {
      "text/plain": [
       "RFE(estimator=RandomForestRegressor(), n_features_to_select=10)"
      ]
     },
     "execution_count": 13,
     "metadata": {},
     "output_type": "execute_result"
    }
   ],
   "source": [
    "# define the method for Recursive Feature Elimination. The goal is to choose 10 features that best represent the more important featues.\n",
    "# from there we can create a model and interpret more deeply the meaning of the features.\n",
    "rfe = RFE(estimator=RandomForestRegressor(n_estimators = 100), n_features_to_select=10)\n",
    "# fit the model\n",
    "rfe.fit(X_train, y_train)\n"
   ]
  },
  {
   "cell_type": "code",
   "execution_count": 14,
   "id": "df0dfbea",
   "metadata": {},
   "outputs": [
    {
     "name": "stdout",
     "output_type": "stream",
     "text": [
      "Index(['% High Needs', '% Economically Disadvantaged', '% White',\n",
      "       'Average Class Size', '% Attending College', 'AP_Score=5',\n",
      "       '% AP_Score 1-2', '% MCAS_10thGrade_Math_P',\n",
      "       'School Accountability Percentile (1-99)',\n",
      "       'Progress and Performance Index (PPI) - All Students'],\n",
      "      dtype='object')\n"
     ]
    }
   ],
   "source": [
    "# Fetching the Original Columns the RFE reported back. I am calling from before the transform since the locations will\n",
    "# remian intact but the scalling converts the data to numpy and does not carry the .loc function.\n",
    "FeatureNames = X_train.loc[:, rfe.support_].columns\n",
    "print(FeatureNames)"
   ]
  },
  {
   "cell_type": "code",
   "execution_count": 31,
   "id": "9d1b5b73",
   "metadata": {},
   "outputs": [],
   "source": [
    "#Applying the results of the recursive feature elimination to crete sets for the model creation.\n",
    "XFinalTrain = rfe.transform(X_train_norm)\n",
    "XFinalTest =rfe.transform(X_test_norm)"
   ]
  },
  {
   "cell_type": "code",
   "execution_count": 32,
   "id": "646420f0",
   "metadata": {},
   "outputs": [],
   "source": [
    "# I used RFE to recude issues with multicolinearity in the data and help optimize the model creation. This made the choice of \n",
    "# a linear regression feel more appropraite than other more methods for my first model creation. \n",
    "regr = LinearRegression()\n",
    "\n",
    "\n",
    "regr.fit(XFinalTrain, y_train)\n",
    "predictions = regr.predict(XFinalTest)"
   ]
  },
  {
   "cell_type": "code",
   "execution_count": 33,
   "id": "17ae76d6",
   "metadata": {},
   "outputs": [
    {
     "data": {
      "text/plain": [
       "(222, 10)"
      ]
     },
     "execution_count": 33,
     "metadata": {},
     "output_type": "execute_result"
    }
   ],
   "source": [
    "XFinalTrain.shape"
   ]
  },
  {
   "cell_type": "code",
   "execution_count": 34,
   "id": "39c728d2",
   "metadata": {
    "scrolled": true
   },
   "outputs": [
    {
     "data": {
      "text/plain": [
       "array([-21.67279522,  -3.18043174,  14.58073295,  -3.00914736,\n",
       "        11.19988519,  15.51874267,  -3.59832698,  -6.69692853,\n",
       "         9.47117867,  -8.45353417])"
      ]
     },
     "execution_count": 34,
     "metadata": {},
     "output_type": "execute_result"
    }
   ],
   "source": [
    "#An array of the coefficents for each feature for each target.\n",
    "regr.coef_[0]"
   ]
  },
  {
   "cell_type": "code",
   "execution_count": 35,
   "id": "a2faaeb6",
   "metadata": {},
   "outputs": [
    {
     "data": {
      "image/png": "[encoded data removed]",
      "text/plain": [
       "<Figure size 432x288 with 1 Axes>"
      ]
     },
     "metadata": {
      "needs_background": "light"
     },
     "output_type": "display_data"
    },
    {
     "data": {
      "image/png": "[encoded data removed]",
      "text/plain": [
       "<Figure size 432x288 with 1 Axes>"
      ]
     },
     "metadata": {
      "needs_background": "light"
     },
     "output_type": "display_data"
    },
    {
     "data": {
      "image/png": "[encoded data removed]",
      "text/plain": [
       "<Figure size 432x288 with 1 Axes>"
      ]
     },
     "metadata": {
      "needs_background": "light"
     },
     "output_type": "display_data"
    }
   ],
   "source": [
    "#Creating visual plots of the values of the coeffecients. The large the abosoulate the value the bigger the impact. Negative values decrease\n",
    "# Negative values decrease SAT score overall, and vice versa for positive.\n",
    "importance = regr.coef_[0]\n",
    "plt.barh(FeatureNames, importance)\n",
    "plt.title(\"Feature Impact on SAT Reading\")\n",
    "plt.xlabel(\"Coefficent values\")\n",
    "plt.ylabel(\"Feature Names\")\n",
    "plt.show()\n",
    "importance = regr.coef_[1]\n",
    "plt.barh(FeatureNames, importance)\n",
    "\n",
    "plt.title(\"Feature Impact on SAT Math\")\n",
    "plt.xlabel(\"Coefficent values\")\n",
    "plt.ylabel(\"Feature Names\")\n",
    "plt.show()\n",
    "importance = regr.coef_[2]\n",
    "plt.barh(FeatureNames, importance)\n",
    "\n",
    "plt.title(\"Feature Impact on SAT Writing\")\n",
    "plt.xlabel(\"Coefficent values\")\n",
    "plt.ylabel(\"Feature Names\")\n",
    "plt.show()"
   ]
  },
  {
   "cell_type": "code",
   "execution_count": 36,
   "id": "689e01d8",
   "metadata": {},
   "outputs": [
    {
     "name": "stdout",
     "output_type": "stream",
     "text": [
      "The r2 is:  0.7396548285127355\n",
      "The rmse is:  30.659568445825517\n"
     ]
    }
   ],
   "source": [
    " from sklearn.metrics import r2_score\n",
    "from sklearn.metrics import mean_squared_error\n",
    "r2 = r2_score(y_test, predictions)\n",
    "rmse = mean_squared_error(y_test, predictions, squared=False)\n",
    "\n",
    "print('The r2 is: ', r2)\n",
    "print('The rmse is: ', rmse)"
   ]
  },
  {
   "cell_type": "code",
   "execution_count": 37,
   "id": "3b157c70",
   "metadata": {},
   "outputs": [
    {
     "name": "stdout",
     "output_type": "stream",
     "text": [
      "R-Square value for the writing test  0.767821973282323\n",
      "R-Square value for the math test  0.7332447399622788\n",
      "R-Square value for the reading test  0.7178977722936044\n"
     ]
    }
   ],
   "source": [
    "r2 = r2_score(y_test['Average SAT_Writing'], predictions[:,0])\n",
    "print(\"R-Square value for the writing test \",r2_score(y_test['Average SAT_Writing'], predictions[:,0]))\n",
    "print(\"R-Square value for the math test \",r2_score(y_test['Average SAT_Math'], predictions[:,1]))\n",
    "print(\"R-Square value for the reading test \",r2_score(y_test['Average SAT_Reading'], predictions[:,2]))"
   ]
  },
  {
   "cell_type": "code",
   "execution_count": 38,
   "id": "ed71d255",
   "metadata": {},
   "outputs": [
    {
     "name": "stdout",
     "output_type": "stream",
     "text": [
      "R-Square value for the writing test  28.95281417767715\n",
      "R-Square value for the math test  30.931640327615884\n",
      "R-Square value for the reading test  32.09425083218351\n"
     ]
    }
   ],
   "source": [
    "\n",
    "print(\"R-Square value for the writing test \", mean_squared_error(y_test['Average SAT_Writing'], predictions[:,0],squared=False))\n",
    "print(\"R-Square value for the math test \", mean_squared_error(y_test['Average SAT_Math'], predictions[:,1],squared=False))\n",
    "print(\"R-Square value for the reading test \", mean_squared_error(y_test['Average SAT_Reading'], predictions[:,2],squared=False))"
   ]
  },
  {
   "cell_type": "code",
   "execution_count": 39,
   "id": "a7b4ce22",
   "metadata": {},
   "outputs": [
    {
     "name": "stdout",
     "output_type": "stream",
     "text": [
      "0.7731697269811063 30.659568445825517\n"
     ]
    },
    {
     "data": {
      "text/plain": [
       "array([0.58779791, 0.10166049, 0.04281286, 0.01898779, 0.03729677,\n",
       "       0.06813423, 0.03772965, 0.03044206, 0.06197867, 0.01315959])"
      ]
     },
     "execution_count": 39,
     "metadata": {},
     "output_type": "execute_result"
    }
   ],
   "source": [
    "from sklearn.ensemble import RandomForestRegressor\n",
    "rfr = RandomForestRegressor(n_estimators = 500, random_state = 0)\n",
    "rfr.fit(XFinalTrain, y_train)\n",
    "predictions2 = rfr.predict(XFinalTest)\n",
    "r2_2 = r2_score(y_test, predictions2)\n",
    "rmse_2 = mean_squared_error(y_test, predictions, squared=False)\n",
    "print(r2_2,rmse_2)\n",
    "\n",
    "rfr.feature_importances_"
   ]
  },
  {
   "cell_type": "code",
   "execution_count": 40,
   "id": "ce10ba18",
   "metadata": {},
   "outputs": [
    {
     "data": {
      "text/plain": [
       "0.5877979096559399"
      ]
     },
     "execution_count": 40,
     "metadata": {},
     "output_type": "execute_result"
    }
   ],
   "source": [
    "\n",
    "rfr.feature_importances_[0]"
   ]
  },
  {
   "cell_type": "code",
   "execution_count": 41,
   "id": "34546a13",
   "metadata": {},
   "outputs": [],
   "source": [
    "Y= df[[\"Average SAT_Writing\",'Average SAT_Math','Average SAT_Reading']]"
   ]
  },
  {
   "cell_type": "code",
   "execution_count": 42,
   "id": "fc1c304e",
   "metadata": {},
   "outputs": [
    {
     "name": "stdout",
     "output_type": "stream",
     "text": [
      "0.7452984212321172 30.224719153819656\n"
     ]
    },
    {
     "data": {
      "image/png": "[encoded data removed]",
      "text/plain": [
       "<Figure size 432x288 with 1 Axes>"
      ]
     },
     "metadata": {
      "needs_background": "light"
     },
     "output_type": "display_data"
    }
   ],
   "source": [
    "\n",
    "rfrMath = RandomForestRegressor(n_estimators = 500, random_state = 0)\n",
    "rfrMath.fit(XFinalTrain, y_train['Average SAT_Math'])\n",
    "predictionsMath = rfrMath.predict(XFinalTest)\n",
    "r2_Math = r2_score(y_test['Average SAT_Math'], predictionsMath)\n",
    "rmse_Math = mean_squared_error(y_test['Average SAT_Math'], predictionsMath, squared=False)\n",
    "print(r2_Math,rmse_Math)\n",
    "\n",
    "importance = rfrMath.feature_importances_\n",
    "plt.title(\"Feature Impact on SAT Math\")\n",
    "plt.xlabel(\"Coefficent values\")\n",
    "plt.ylabel(\"Feature Names\")\n",
    "\n",
    "plt.barh(FeatureNames, importance)\n",
    "plt.show()"
   ]
  },
  {
   "cell_type": "code",
   "execution_count": 43,
   "id": "bc9324b8",
   "metadata": {},
   "outputs": [
    {
     "name": "stdout",
     "output_type": "stream",
     "text": [
      "0.7723953668310398 28.82800135915836\n"
     ]
    },
    {
     "data": {
      "image/png": "[encoded data removed]",
      "text/plain": [
       "<Figure size 432x288 with 1 Axes>"
      ]
     },
     "metadata": {
      "needs_background": "light"
     },
     "output_type": "display_data"
    }
   ],
   "source": [
    "\n",
    "rfrReading = RandomForestRegressor(n_estimators = 500, random_state = 0)\n",
    "rfrReading.fit(XFinalTrain, y_train['Average SAT_Reading'])\n",
    "predictionsReading = rfrReading.predict(XFinalTest)\n",
    "r2_Reading = r2_score(y_test['Average SAT_Reading'], predictionsReading)\n",
    "rmse_Reading = mean_squared_error(y_test['Average SAT_Reading'], predictionsReading, squared=False)\n",
    "print(r2_Reading,rmse_Reading)\n",
    "\n",
    "importance = rfrReading.feature_importances_\n",
    "plt.title(\"Feature Impact on SAT Reading\")\n",
    "plt.xlabel(\"Coefficent values\")\n",
    "plt.ylabel(\"Feature Names\")\n",
    "\n",
    "\n",
    "plt.barh(FeatureNames, importance)\n",
    "plt.show()"
   ]
  },
  {
   "cell_type": "code",
   "execution_count": 44,
   "id": "a7bfe614",
   "metadata": {},
   "outputs": [
    {
     "name": "stdout",
     "output_type": "stream",
     "text": [
      "0.7964177808091846 27.111287794100544\n"
     ]
    },
    {
     "data": {
      "image/png": "[encoded data removed]",
      "text/plain": [
       "<Figure size 432x288 with 1 Axes>"
      ]
     },
     "metadata": {
      "needs_background": "light"
     },
     "output_type": "display_data"
    }
   ],
   "source": [
    "\n",
    "rfrWriting = RandomForestRegressor(n_estimators = 500, random_state = 0)\n",
    "rfrWriting.fit(XFinalTrain, y_train['Average SAT_Writing'])\n",
    "predictionsWriting = rfrWriting.predict(XFinalTest)\n",
    "r2_Writing = r2_score(y_test['Average SAT_Writing'], predictionsWriting)\n",
    "rmse_Writing = mean_squared_error(y_test['Average SAT_Writing'], predictionsWriting, squared=False)\n",
    "print(r2_Writing,rmse_Writing)\n",
    "\n",
    "\n",
    "importance = rfrWriting.feature_importances_\n",
    "plt.title(\"Feature Impact on SAT Writing\")\n",
    "plt.xlabel(\"Coefficent values\")\n",
    "plt.ylabel(\"Feature Names\")\n",
    "\n",
    "plt.barh(FeatureNames, importance)\n",
    "plt.show()"
   ]
  },
  {
   "cell_type": "markdown",
   "id": "9b9fcea9",
   "metadata": {},
   "source": [
    "<h1> Milestone 4 Overview </h1>\n",
    "<p> The process for prepping the data was as follows </p>\n",
    "<ul>\n",
    "    <li>Input the data</li>\n",
    "    <li>Observe overall trends</li>\n",
    "    <li>Drop superfluous features</li>\n",
    "    <li>Clean Na data </li>\n",
    "    <li>Create Dummies Variables </li>\n",
    "    <li> Use Recursive Feature Elimination to choose the most impactful features </li>\n",
    "    </ul>\n",
    "    \n",
    "<p>The model created was a linear regression to start. This allowed us to measure the importance of the top features. The model has an r-sqaured value of 0.72 and rmse of 32.04 These are good baseline scores but clearly leave some room for improvement.</p>\n",
    "\n",
    "<h2> Results </h2>\n",
    "<p>I elected to try to focus on creating results that are very clearly readable and useable for a school that was working toward increasing a student's SAT score. This is why I used RFE to narrow down the feature list instead of PCA. PCA could very much have provided me with a super powerful and accurate model but I have concerns for how useable the data would have been to suggest an action plan for the institution. The list of most impactful features is as follows: </p>\n",
    "<br>\n",
    "</p>'% High Needs', '% Economically Disadvantaged', '% White',\n",
    "       '% Attending College', '% MA State University', 'AP_Score=5',\n",
    "       '% AP_Score 1-2', '% MCAS_10thGrade_Math_A', 'MCAS_10thGrade_Math_CPI',\n",
    "       '% MCAS_10thGrade_English_A'\n",
    "    \n",
    " </p>\n",
    " \n",
    " <p> I need to dig more but based on my expertise in the field these results give some actionable items for schools to consider. We can see that the largest negative impact on SAT performance is percentage of students with high needs. We can also see the percentage of white students plays a role in this too. These two note worthy results sadly show a much larger issue schools will be hard pressed to prevent. The most negative impact is having a high percentage of students with high needs. This means schools could focus more on helping students with these high needs but that is much easier said than done. There is also a clear racial issue that can help outline some systemic roadblocks with having a larger percentage of students who are white.A public school does not control these things. Going further into this though, the MCAS 10th grade tests correlate very closely with student success. This means supporting students on these accountability tests can also ensure these can be successful on the SAT.</p>\n",
    " \n",
    " <h2> Current Conclusions and Recommendations</h2>\n",
    " \n",
    " <p> This model is providing useful information but I would not recommend it for public production just yet. The model needs to be more rigorously examined for possible fitting issues. Furthermore, a second dataset with similar information but post pandemic could help clarify the importance of many features. In the current state this model should be part of a large action plan to support learning in schools and should be expanded upon to achieve the objective of the project. I am confident that with more tests to evaluate the project and comparisons to other models I can a strong recommendation for these schools. </p>\n"
   ]
  },
  {
   "attachments": {
    "timeline.PNG": {
     "image/png": "[encoded data removed]"
    }
   },
   "cell_type": "markdown",
   "id": "63436374",
   "metadata": {},
   "source": [
    "<h2> Milestone 2 and 3 </h2>\n",
    "\n",
    "I have chosen to explore the relationship between educational data and two outcomes. One, how demographic information can predict students' performance on the SAT. Two, how student demographic information can predict college attendance. \n",
    "\n",
    "Purpose:\n",
    "\n",
    "The purpose of this project is to take a deeper dive into how schools measure accountability and performance. Traditionally every state has a metric to suggest how well a school is performing. On a nationwide scale schools generally consider two factors across the board, college attendance, and performance on the Scholastic Aptitude Test(SAT).  This data set is rich with measures that could all play a bigger role in these outcomes that are not accounted for in these evaluation systems. I am going to approach the data trying to clearly define which features have impacts on these metrics and how impactul they are. At first glance we want to consider the following: location, funding, demographics, accountability measures. Working with this data, I hope to create a clear need for such models, and want to offer it as a proof of concept for my local district to collect such data. Ideally using it to support the needs of teachers and schools in our area.\n",
    "\n",
    "Timeline:\n",
    "![timeline.PNG](attachment:timeline.PNG)\n",
    "Data Selection:\n",
    "\n",
    "After conferring with my local district and school they denied my initial request for de-identified student information. They brought up very valid concerns with possible violations of student personal data and FERPA protections. I moved onto a publicly available data source from Kaggel. MSC Public Schools shared a set of information that would suffice for my project exploration, so I went ahead and moved forward with this set. This data set will lay the groundwork for future study and impact of clearly impactful data points.\n",
    "\n",
    "\n",
    "\n",
    "Data Cleaning:\n",
    "\n",
    "There is a long road ahead of data cleaning for this project. Most schools are described by 303 features. I am going to be cutting demographic information that will not support the questions I seek to answer. For example, much of the information about the school location will be removed since the name of a school will have little impact on its performance. I will keep the zip codes linked to the schools and explore its impact on performance as these are effective generalized numbers for location. Also, I will be gleaning any schools that do not support up to 12th grade. The list has over 1800 schools and while this will remove many. A school that does not support up to 12th students will have their students' needs met by some local high school, and we can still well represent the student bodies. I will also take a moment to try and consolidate variables that clearly represent common values. For example, total expenditures, total students, and average expenditures per student should be able to be summarized by the last value in that list. Furthermore, the values are vastly different in some of their measurements, some are percentages, others are values in the millions. The remaining cleaned data will be scaled to help create make the training process more efficient computationally. \n",
    "\n",
    "Model Proposals :\n",
    "\n",
    "Question 1: I will explore regression models to predict SAT value. Since this is a numerical prediction I feel regression models are the clear option. I will explore the impact of the following models using a pipeline and batch command to compare performance: Linear Regression, Ridge Regression..\n",
    "\n",
    "After exploring the data I have narrowed my prospective model list to the following: Ridge and Linear regression. There are some multicollinearity concerns within the data and I want to see how using the Ridge regression can help support this for a prediction of student performance. I will explore correlation through the set of features to also address this. I kept a standard linear regression model to compare the results with. I dropped the LASSO regression as there are an abundance of features available for the data set and LASSO performs best when operating with a few critical features. In a similar light I dropped Bayesian Linear regression since the data is well distributed and abundant. \n",
    "\n",
    "Question 2: Using the data provided I am seeking to see what features play the largest role in if students from a school will attend college or university. These are presented in percentage values and will also be modeled using a linear or Ridge Regression.\n",
    "Going forward this model does not lend itself to classification attempts as well as I originally imagined. I am going to use similar methods to address the percentages of students attending colleges based on cohort data as I do for success on the SAT. I will retain the use of a random forest to try and isolate the most important and impactful features to help support model creation though.\n",
    "\n",
    "Visualization of Data:\n",
    "I created a scatter plot of the geographical information to gain surface visualization of the information.  A correlation matrix will also be useful to help address multicollinearity concerns and get a better idea of features impacting the outcome. Lastly, I will have a plot of feature importance based on application of recursive feature elimination and a linear regression.\n",
    "\n",
    "Evaluation of Results:\n",
    "\n",
    "For both of the questions I will organize the information into a split test learn situation. I will begin with a simple accuracy measurement for each model to begin evaluation of how to select the correct model. Going further, for the regression models I will base performance on R-squared and RMSE to dig deeper into the aspects of model creation. I will be conducting performance tests using random forests to try to isolate the most important features as mentioned prior. Trying to limit the model to only the most impactful should improve efficiency with the data collected. This should also help us address issues with bias in the model if we perceive any. \n",
    "\n",
    "Expected Conclusions:\n",
    "\n",
    "I expect to be able to understand what factors play a larger role in these values. I want to get a good idea of what predicts the performance of a student on the SAT and continuing their education. The goal is to be able to make recommendations to schools about where their efforts can be placed to help improve these outcomes. For example perhaps the structure of a school or how the money is spent can be better allocated.\n",
    "\n",
    "Risk Assessment:\n",
    "\n",
    "As mentioned in the data collection step there is a huge issue with data privacy in education. We are talking abou very real and raw data points about human beings. The data should only be shared in a way that ensures their identities cannot be divulged. That is why the data here is aggregated by school. This is a first step but I still need to ensure no privacy concerns will be raised. Furthermore, the impact of this information could have very real consequences. Just like creating a model to support business profits, creating a model to improve education performance will cause real change in a school. If this information is inaccurate it could have impacts on the lives of humans permanently. All recommendations should be backed by the absolute best practices to minimize harm.\n",
    "\n",
    "Contingency Plan:\n",
    "\n",
    "I have some concerns if the classification model will work the way I want it to. I am trying to summarize post secondary education from many options and it could be difficult to classify. If that fails I may have to evaluate the model choices. Furthermore if the data appears insufficient to make a conclusion at all I have a world wide dataset that could perhaps be applied to these concepts instead.\n",
    "Revisiting this concept, the data is going to function very well for the questions being asked. With taking the time to narrow my approach with the models I still hold my original expectations and see less concern for this contingency plan.\n",
    "\n",
    "Summary of Milestone 3:\n",
    "Adjusted original questions and modeling approach to better match data, clearly defined the purpose of the project, discussed approach for data cleaning and data visualization. Incorporated feedback from peer review. \n"
   ]
  },
  {
   "cell_type": "code",
   "execution_count": 29,
   "id": "202f3340",
   "metadata": {},
   "outputs": [
    {
     "data": {
      "text/plain": [
       "'3.8.8'"
      ]
     },
     "execution_count": 29,
     "metadata": {},
     "output_type": "execute_result"
    }
   ],
   "source": [
    "from platform import python_version \n",
    "python_version()"
   ]
  },
  {
   "cell_type": "code",
   "execution_count": null,
   "id": "bb937e43",
   "metadata": {},
   "outputs": [],
   "source": []
  }
 ],
 "metadata": {
  "kernelspec": {
   "display_name": "Python 3",
   "language": "python",
   "name": "python3"
  },
  "language_info": {
   "codemirror_mode": {
    "name": "ipython",
    "version": 3
   },
   "file_extension": ".py",
   "mimetype": "text/x-python",
   "name": "python",
   "nbconvert_exporter": "python",
   "pygments_lexer": "ipython3",
   "version": "3.8.8"
  }
 },
 "nbformat": 4,
 "nbformat_minor": 5
}
